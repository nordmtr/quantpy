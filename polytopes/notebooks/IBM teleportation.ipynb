{
 "cells": [
  {
   "cell_type": "code",
   "execution_count": null,
   "metadata": {},
   "outputs": [],
   "source": [
    "%run Imports.ipynb\n",
    "from quantpy.tomography.interval import ConfidenceInterval, _pop_hidden_keys, Mode\n",
    "\n",
    "import numpy as np\n",
    "import scipy.linalg as la\n",
    "import scipy.stats as sts\n",
    "import polytope as pc\n",
    "import math\n",
    "\n",
    "from enum import Enum, auto\n",
    "from abc import ABC, abstractmethod\n",
    "from scipy.interpolate import interp1d\n",
    "from collections import Counter, defaultdict\n",
    "from functools import partial\n",
    "\n",
    "from quantpy.geometry import hs_dst, trace_dst, if_dst\n",
    "from quantpy.polytope import compute_polytope_volume, find_max_distance_to_polytope\n",
    "from quantpy.qobj import Qobj\n",
    "from quantpy.routines import (\n",
    "    _left_inv, _vec2mat, _mat2vec,\n",
    "    _matrix_to_real_tril_vec, _real_tril_vec_to_matrix,\n",
    ")\n",
    "from quantpy.tomography.interval import PolytopeProcessInterval"
   ]
  },
  {
   "cell_type": "code",
   "execution_count": null,
   "metadata": {
    "deletable": false,
    "editable": false
   },
   "outputs": [],
   "source": [
    "results = {'Ry13_Id': {'__0__': 3520, '__1__': 4672},\n",
    "           'Ry13_Rx': {'__0__': 4033, '__1__': 4159},\n",
    "           'Ry13_Ry': {'__0__': 1589, '__1__': 6603},\n",
    "           'RyRz23_Id': {'__0__': 3593, '__1__': 4599},\n",
    "           'RyRz23_Rx': {'__0__': 6834, '__1__': 1358},\n",
    "           'RyRz23_Ry': {'__0__': 5488, '__1__': 2704},\n",
    "           'RyRz43_Id': {'__0__': 3515, '__1__': 4677},\n",
    "           'RyRz43_Rx': {'__0__': 2403, '__1__': 5789},\n",
    "           'RyRz43_Ry': {'__0__': 6167, '__1__': 2025},\n",
    "           'nothing_Id': {'__0__': 7473, '__1__': 719},\n",
    "           'nothing_Rx': {'__0__': 4373, '__1__': 3819},\n",
    "           'nothing_Ry': {'__0__': 4288, '__1__': 3904}}"
   ]
  },
  {
   "cell_type": "code",
   "execution_count": null,
   "metadata": {},
   "outputs": [],
   "source": [
    "POVM_base = np.array([\n",
    "    [0.972, 0],\n",
    "    [0, 0.093],\n",
    "])\n",
    "\n",
    "POVM_3 = [POVM_base, np.eye(2) - POVM_base]\n",
    "POVM_2 = [qp.operator.RX(np.pi / 2).H.as_channel().transform(elem) for elem in POVM_3]\n",
    "POVM_1 = [qp.operator.RY(np.pi / 2).H.as_channel().transform(elem) for elem in POVM_3]\n",
    "\n",
    "POVM_3_matrix = np.array([qp.Qobj(elem).bloch for elem in POVM_3])\n",
    "POVM_2_matrix = np.array([qp.Qobj(elem).bloch for elem in POVM_2])\n",
    "POVM_1_matrix = np.array([qp.Qobj(elem).bloch for elem in POVM_1])\n",
    "\n",
    "POVM_matrix = np.stack([POVM_1_matrix, POVM_2_matrix, POVM_3_matrix], axis=0)"
   ]
  },
  {
   "cell_type": "code",
   "execution_count": null,
   "metadata": {},
   "outputs": [],
   "source": [
    "ry = qp.operator.RY(np.arccos(-1 / 3)).as_channel()\n",
    "rz23 = qp.operator.RZ(np.pi * 2 / 3).as_channel()\n",
    "rz43 = qp.operator.RZ(np.pi * 4 / 3).as_channel()\n",
    "\n",
    "state_1 = qp.Qobj([1, 0], True)\n",
    "state_2 = ry.transform(state_1)\n",
    "state_3 = rz23.transform(state_2)\n",
    "state_4 = rz43.transform(state_2)\n",
    "\n",
    "input_basis = [state_1, state_2, state_3, state_4]"
   ]
  },
  {
   "cell_type": "code",
   "execution_count": null,
   "metadata": {
    "scrolled": true
   },
   "outputs": [],
   "source": [
    "target_channel = qp.operator.Id.as_channel()\n",
    "tmg = qp.ProcessTomograph(target_channel, input_states=input_basis)\n",
    "tmg.experiment(8192, POVM_matrix)\n",
    "\n",
    "# use the results from IBM cloud computer\n",
    "tmg.tomographs[0].results = np.array([4288, 3904, 4373, 3819, 7473, 719])\n",
    "tmg.tomographs[1].results = np.array([1589, 6603, 4033, 4159, 3520, 4672])\n",
    "tmg.tomographs[2].results = np.array([5488, 2704, 6834, 1358, 3593, 4599])\n",
    "tmg.tomographs[3].results = np.array([6167, 2025, 2403, 5789, 3515, 4677])\n",
    "\n",
    "channel_hat = tmg.point_estimate()\n",
    "fidelity = np.dot(target_channel.choi.bloch, channel_hat.choi.bloch)\n",
    "interval = PolytopeProcessInterval(tmg, target_channel=target_channel)\n",
    "conf_levels = np.linspace(1e-5, 1-1e-5, 100)\n",
    "(dist_min, dist_max), conf_levels = interval(conf_levels)\n",
    "epsilons = 1 - conf_levels"
   ]
  },
  {
   "cell_type": "code",
   "execution_count": null,
   "metadata": {},
   "outputs": [],
   "source": [
    "plt.figure(figsize=(20, 13), dpi=200)\n",
    "plt.xlabel('$\\\\epsilon$')\n",
    "plt.ylabel('Fidelity')\n",
    "plt.grid()\n",
    "plt.fill_between(epsilons, dist_min, dist_max, alpha=0.3)\n",
    "plt.xscale('log')\n",
    "plt.plot([epsilons[0], epsilons[-1]], [fidelity] * 2, '--')\n",
    "plt.figtext(0.02, 0.9, \"c)\")\n",
    "plt.savefig('../imgs/polytope/fig2c.pdf')"
   ]
  }
 ],
 "metadata": {
  "kernelspec": {
   "display_name": "Python 3 (ipykernel)",
   "language": "python",
   "name": "python3"
  },
  "language_info": {
   "codemirror_mode": {
    "name": "ipython",
    "version": 3
   },
   "file_extension": ".py",
   "mimetype": "text/x-python",
   "name": "python",
   "nbconvert_exporter": "python",
   "pygments_lexer": "ipython3",
   "version": "3.9.5"
  }
 },
 "nbformat": 4,
 "nbformat_minor": 2
}
