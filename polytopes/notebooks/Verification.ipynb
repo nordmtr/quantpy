{
 "cells": [
  {
   "cell_type": "code",
   "execution_count": null,
   "metadata": {
    "ExecuteTime": {
     "end_time": "2021-10-25T11:13:38.719293Z",
     "start_time": "2021-10-25T11:13:38.600233Z"
    }
   },
   "outputs": [],
   "source": [
    "%run Imports.ipynb\n",
    "from quantpy.tomography.interval import ConfidenceInterval, _pop_hidden_keys, Mode\n",
    "\n",
    "import numpy as np\n",
    "import scipy.stats as sts\n",
    "import polytope as pc\n",
    "import math\n",
    "\n",
    "from enum import Enum, auto\n",
    "from abc import ABC, abstractmethod\n",
    "from scipy.interpolate import interp1d\n",
    "from collections import Counter, defaultdict\n",
    "from functools import partial\n",
    "from einops import repeat, rearrange\n",
    "\n",
    "from quantpy.geometry import hs_dst, trace_dst, if_dst\n",
    "from quantpy.polytope import compute_polytope_volume, find_max_distance_to_polytope\n",
    "from quantpy.qobj import Qobj\n",
    "from quantpy.routines import (\n",
    "    _left_inv, _vec2mat, _mat2vec,\n",
    "    _matrix_to_real_tril_vec, _real_tril_vec_to_matrix,\n",
    ")\n",
    "from quantpy.stats import l2_first_moment, l2_mean, l2_second_moment, l2_variance\n",
    "from quantpy.tomography.interval import ConfidenceInterval, Mode\n",
    "from quantpy.tomography.polytopes.verification import test_qpt, test_qst"
   ]
  },
  {
   "cell_type": "markdown",
   "metadata": {},
   "source": [
    "### QST number of qubits"
   ]
  },
  {
   "cell_type": "code",
   "execution_count": null,
   "metadata": {},
   "outputs": [],
   "source": [
    "conf_levels = np.concatenate((np.arange(0.1, 0.9, 0.1), np.arange(0.9, 1, 0.01)))\n",
    "n_qubits_list = range(1, 6)\n",
    "results = []\n",
    "n_trials = 10000\n",
    "n_measurements = 10 ** 4\n",
    "for i in n_qubits_list:\n",
    "    state = qp.qobj.GHZ(i)\n",
    "    results.append(test_qst(state, conf_levels, n_measurements, n_trials))"
   ]
  },
  {
   "cell_type": "code",
   "execution_count": null,
   "metadata": {},
   "outputs": [],
   "source": [
    "obj = {'cl': conf_levels, 'results': results}\n",
    "with open('../results/states_qubits_10k.pkl', 'wb') as file:\n",
    "    pickle.dump(obj, file)"
   ]
  },
  {
   "cell_type": "code",
   "execution_count": null,
   "metadata": {
    "ExecuteTime": {
     "end_time": "2021-10-24T12:00:22.703929Z",
     "start_time": "2021-10-24T12:00:22.650931Z"
    }
   },
   "outputs": [],
   "source": [
    "with open('../results/states_qubits_10k.pkl', 'rb') as file:\n",
    "    obj = pickle.load(file)\n",
    "results = obj['results']"
   ]
  },
  {
   "cell_type": "code",
   "execution_count": null,
   "metadata": {},
   "outputs": [],
   "source": [
    "plt.figure(figsize=(20, 13), dpi=200)\n",
    "plt.xlabel('$\\\\epsilon$')\n",
    "plt.ylabel('$f_{\\\\rm fail}$')\n",
    "plt.xscale('log')\n",
    "plt.yscale('log')\n",
    "plt.grid(which='both')\n",
    "plt.plot(np.linspace(0, 1, 10), np.linspace(0, 1, 10), '--k')\n",
    "for n, results_for_qubit in enumerate(results):\n",
    "    plt.plot(1 - conf_levels, 1 - results_for_qubit, '-o', label=f'$N={n+1}$', linewidth=3)\n",
    "plt.legend()\n",
    "plt.figtext(0.02, 0.9, \"a)\")\n",
    "plt.savefig('../imgs/fig1a.pdf')"
   ]
  },
  {
   "cell_type": "markdown",
   "metadata": {},
   "source": [
    "### QST number of measurements"
   ]
  },
  {
   "cell_type": "code",
   "execution_count": null,
   "metadata": {},
   "outputs": [],
   "source": [
    "conf_levels = np.concatenate((np.arange(0.1, 0.9, 0.1), np.arange(0.9, 1, 0.01)))\n",
    "n_meas_list = [int(n) for n in np.logspace(2, 7, 6)]\n",
    "results = np.zeros((len(n_meas_list), len(conf_levels)))\n",
    "n_trials = 10000\n",
    "for i, n_measurements in enumerate(n_meas_list):\n",
    "    state = qp.qobj.GHZ(1)\n",
    "    dim = 2 ** state.n_qubits\n",
    "    tmg = qp.StateTomograph(state)\n",
    "    tmg.experiment(n_measurements)\n",
    "    state_hat = tmg.point_estimate()\n",
    "    EPS = 1e-15\n",
    "\n",
    "    povm_matrix = (np.reshape(tmg.povm_matrix * tmg.n_measurements[:, None, None]\n",
    "                              / np.sum(tmg.n_measurements),\n",
    "                              (-1, tmg.povm_matrix.shape[-1]))\n",
    "                   * tmg.povm_matrix.shape[0])\n",
    "    A = np.ascontiguousarray(povm_matrix[:, 1:]) * dim\n",
    "    polytope_prod = A @ state.bloch[1:]\n",
    "    \n",
    "    for _ in tqdm(range(n_trials)):\n",
    "        tmg = qp.StateTomograph(state)\n",
    "        tmg.experiment(n_measurements)\n",
    "        frequencies = np.clip(tmg.raw_results / tmg.n_measurements[:, None], EPS, 1 - EPS)\n",
    "        for j, cl in enumerate(conf_levels):\n",
    "            delta = WangInterval._count_delta(cl, frequencies, tmg.n_measurements)\n",
    "            b = np.clip(np.hstack(frequencies) + delta, EPS, 1 - EPS) - povm_matrix[:, 0]\n",
    "            if np.min(b - polytope_prod) > -EPS:\n",
    "                results[i, j] += 1\n",
    "results /= n_trials"
   ]
  },
  {
   "cell_type": "code",
   "execution_count": null,
   "metadata": {},
   "outputs": [],
   "source": [
    "with open('../results/states_meas.pkl', 'rb') as file:\n",
    "    obj = pickle.load(file)\n",
    "results = obj['results']"
   ]
  },
  {
   "cell_type": "code",
   "execution_count": null,
   "metadata": {},
   "outputs": [],
   "source": [
    "obj = {'cl': conf_levels, 'results': new_results}\n",
    "with open('../results/states_meas.pkl', 'wb') as file:\n",
    "    pickle.dump(obj, file)"
   ]
  },
  {
   "cell_type": "code",
   "execution_count": null,
   "metadata": {},
   "outputs": [],
   "source": [
    "plt.figure(figsize=(20, 13), dpi=200)\n",
    "plt.xlabel('$\\\\epsilon$')\n",
    "plt.ylabel('$f_{\\\\rm fail}$')\n",
    "plt.xscale('log')\n",
    "plt.yscale('log')\n",
    "plt.grid(which='both')\n",
    "plt.plot(np.linspace(0, 1, 10), np.linspace(0, 1, 10), '--k')\n",
    "for n, row in enumerate(results[:-2]):\n",
    "    plt.plot(1 - conf_levels, 1 - row, '-o', label=f'$n=10^{n+2}$', linewidth=3)\n",
    "plt.legend()\n",
    "plt.figtext(0.02, 0.9, \"b)\")\n",
    "plt.savefig('../imgs/fig1b.pdf')"
   ]
  },
  {
   "cell_type": "markdown",
   "metadata": {},
   "source": [
    "### QPT number of qubits"
   ]
  },
  {
   "cell_type": "code",
   "execution_count": null,
   "metadata": {},
   "outputs": [],
   "source": [
    "conf_levels = np.concatenate((np.arange(0.1, 0.9, 0.1), np.arange(0.9, 1, 0.01)))\n",
    "n_qubits_list = range(1, 4)\n",
    "results = []\n",
    "n_trials = 10000\n",
    "n_measurements = 10 ** 4\n",
    "for i in range(1, 4):\n",
    "    channel = qp.channel.depolarizing(p=0.1, n_qubits=i)\n",
    "    results.append(test_qpt(channel, conf_levels, n_measurements, n_trials))"
   ]
  },
  {
   "cell_type": "code",
   "execution_count": null,
   "metadata": {},
   "outputs": [],
   "source": [
    "obj = {'cl': conf_levels, 'results': results}\n",
    "with open('../results/processes_qubits_10k.pkl', 'wb') as file:\n",
    "    pickle.dump(obj, file)"
   ]
  },
  {
   "cell_type": "code",
   "execution_count": null,
   "metadata": {},
   "outputs": [],
   "source": [
    "with open('../results/processes_qubits_10k.pkl', 'rb') as file:\n",
    "    obj = pickle.load(file)\n",
    "results = obj['results']"
   ]
  },
  {
   "cell_type": "code",
   "execution_count": null,
   "metadata": {},
   "outputs": [],
   "source": [
    "plt.figure(figsize=(20, 13), dpi=200)\n",
    "plt.xlabel('$\\\\epsilon$')\n",
    "plt.ylabel('$f_{\\\\rm fail}$')\n",
    "plt.xscale('log')\n",
    "plt.yscale('log')\n",
    "plt.grid(which='both')\n",
    "plt.plot(np.linspace(0, 1, 10), np.linspace(0, 1, 10), '--k')\n",
    "for n, results_row in enumerate(results):\n",
    "    plt.plot(1 - conf_levels, 1 - results_row, '-o', label=f'$N={n+1}$', linewidth=3)\n",
    "plt.legend()\n",
    "plt.figtext(0.02, 0.9, \"c)\")\n",
    "plt.savefig('../imgs/fig1c.pdf')"
   ]
  },
  {
   "cell_type": "markdown",
   "metadata": {},
   "source": [
    "### QPT number of measurements"
   ]
  },
  {
   "cell_type": "code",
   "execution_count": null,
   "metadata": {},
   "outputs": [],
   "source": [
    "conf_levels = np.concatenate((np.arange(0.1, 0.9, 0.1), np.arange(0.9, 1, 0.01)))\n",
    "n_meas_list = [int(n) for n in np.logspace(2, 5, 4)]\n",
    "results = []\n",
    "n_trials = 10000\n",
    "for n_measurements in n_meas_list:\n",
    "    channel = qp.channel.depolarizing(p=0.1, n_qubits=1)\n",
    "    results.append(test_qpt(channel, conf_levels, n_measurements, n_trials))"
   ]
  },
  {
   "cell_type": "code",
   "execution_count": null,
   "metadata": {},
   "outputs": [],
   "source": [
    "obj = {'cl': conf_levels, 'results': results}\n",
    "with open('../results/processes_meas.pkl', 'wb') as file:\n",
    "    pickle.dump(obj, file)"
   ]
  },
  {
   "cell_type": "code",
   "execution_count": null,
   "metadata": {},
   "outputs": [],
   "source": [
    "with open('../results/processes_meas.pkl', 'rb') as file:\n",
    "    obj = pickle.load(file)\n",
    "results = obj['results']"
   ]
  },
  {
   "cell_type": "code",
   "execution_count": null,
   "metadata": {},
   "outputs": [],
   "source": [
    "plt.figure(figsize=(20, 13), dpi=200)\n",
    "plt.xlabel('$\\\\epsilon$')\n",
    "plt.ylabel('$f_{\\\\rm fail}$')\n",
    "plt.xscale('log')\n",
    "plt.yscale('log')\n",
    "plt.grid(which='both')\n",
    "plt.plot(np.linspace(0, 1, 10), np.linspace(0, 1, 10), '--k')\n",
    "for n, row in enumerate(results):\n",
    "    plt.plot(1 - conf_levels, 1 - row, '-o', label=f'$n=10^{n+2}$', linewidth=3)\n",
    "plt.legend()\n",
    "plt.figtext(0.02, 0.9, \"d)\")\n",
    "plt.savefig('../imgs/fig1d.pdf')"
   ]
  }
 ],
 "metadata": {
  "kernelspec": {
   "display_name": "Python 3 (ipykernel)",
   "language": "python",
   "name": "python3"
  },
  "language_info": {
   "codemirror_mode": {
    "name": "ipython",
    "version": 3
   },
   "file_extension": ".py",
   "mimetype": "text/x-python",
   "name": "python",
   "nbconvert_exporter": "python",
   "pygments_lexer": "ipython3",
   "version": "3.9.5"
  }
 },
 "nbformat": 4,
 "nbformat_minor": 4
}
