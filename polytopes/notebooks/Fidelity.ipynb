{
 "cells": [
  {
   "cell_type": "code",
   "execution_count": null,
   "metadata": {},
   "outputs": [],
   "source": [
    "%run Imports.ipynb\n",
    "from quantpy.tomography.interval import ConfidenceInterval, _pop_hidden_keys, Mode\n",
    "\n",
    "import numpy as np\n",
    "import scipy.linalg as la\n",
    "import scipy.stats as sts\n",
    "import math\n",
    "\n",
    "from enum import Enum, auto\n",
    "from abc import ABC, abstractmethod\n",
    "from scipy.interpolate import interp1d\n",
    "from collections import Counter, defaultdict\n",
    "from functools import partial\n",
    "from cvxopt import matrix, solvers\n",
    "from einops import repeat, rearrange\n",
    "from matplotlib.lines import Line2D\n",
    "\n",
    "from quantpy.geometry import hs_dst, trace_dst, if_dst\n",
    "from quantpy.qobj import Qobj\n",
    "from quantpy.routines import (\n",
    "    _left_inv, _vec2mat, _mat2vec,\n",
    "    _matrix_to_real_tril_vec, _real_tril_vec_to_matrix,\n",
    ")\n",
    "from quantpy.measurements import generate_measurement_matrix\n",
    "from quantpy.tomography.polytopes.utils import count_confidence, count_delta\n",
    "from quantpy.tomography.interval import PolytopeStateInterval, PolytopeProcessInterval"
   ]
  },
  {
   "cell_type": "markdown",
   "metadata": {},
   "source": [
    "## Example of fidelity interval"
   ]
  },
  {
   "cell_type": "markdown",
   "metadata": {},
   "source": [
    "### State"
   ]
  },
  {
   "cell_type": "code",
   "execution_count": null,
   "metadata": {},
   "outputs": [],
   "source": [
    "n = 2\n",
    "target_state = qp.qobj.GHZ(n)\n",
    "dep_channel = qp.channel.depolarizing(0.1, n)\n",
    "state = dep_channel.transform(target_state)\n",
    "\n",
    "tmg = qp.StateTomograph(state)\n",
    "tmg.experiment(10000)\n",
    "state_hat = tmg.point_estimate()\n",
    "fidelity = 1 - qp.if_dst(target_state, state)\n",
    "interval = PolytopeStateInterval(tmg, 100, target_state=target_state)\n",
    "(dist_min, dist_max), conf_levels = interval()\n",
    "epsilons = 1 - conf_levels"
   ]
  },
  {
   "cell_type": "code",
   "execution_count": null,
   "metadata": {},
   "outputs": [],
   "source": [
    "plt.figure(figsize=(20, 13), dpi=200)\n",
    "plt.xlabel('$\\\\epsilon$')\n",
    "plt.ylabel('Fidelity')\n",
    "plt.grid()\n",
    "plt.fill_between(epsilons, dist_min, dist_max, alpha=0.3)\n",
    "plt.xscale('log')\n",
    "plt.plot([epsilons[0], epsilons[-1]], [fidelity] * 2, '--')"
   ]
  },
  {
   "cell_type": "markdown",
   "metadata": {},
   "source": [
    "### Process"
   ]
  },
  {
   "cell_type": "code",
   "execution_count": null,
   "metadata": {},
   "outputs": [],
   "source": [
    "target_channel = qp.channel.depolarizing(0, 1)\n",
    "channel = qp.channel.depolarizing(0.1, 1)\n",
    "\n",
    "dim = 4 ** channel.n_qubits\n",
    "tmg = qp.ProcessTomograph(channel, input_states='sic')\n",
    "tmg.experiment(10000)\n",
    "channel_hat = tmg.point_estimate()\n",
    "fidelity = np.dot(target_channel.choi.bloch, channel.choi.bloch)\n",
    "interval = PolytopeProcessInterval(tmg, target_channel=target_channel)\n",
    "(dist_min, dist_max), conf_levels = interval()\n",
    "epsilons = 1 - conf_levels"
   ]
  },
  {
   "cell_type": "code",
   "execution_count": null,
   "metadata": {},
   "outputs": [],
   "source": [
    "plt.figure(figsize=(20, 13), dpi=200)\n",
    "plt.xlabel('$\\\\epsilon$')\n",
    "plt.ylabel('Fidelity')\n",
    "plt.grid()\n",
    "plt.fill_between(epsilons, dist_min, dist_max, alpha=0.3)\n",
    "plt.xscale('log')\n",
    "plt.plot([epsilons[0], epsilons[-1]], [fidelity] * 2, '--')"
   ]
  },
  {
   "cell_type": "markdown",
   "metadata": {},
   "source": [
    "## Multiple intervals for fidelity"
   ]
  },
  {
   "cell_type": "code",
   "execution_count": null,
   "metadata": {},
   "outputs": [],
   "source": [
    "target_channel = qp.channel.depolarizing(0, 1)\n",
    "channel = qp.channel.depolarizing(0.1, 1)\n",
    "true_fidelity = np.dot(target_channel.choi.bloch, channel.choi.bloch)\n",
    "EPS = 1e-15\n",
    "\n",
    "dim = 4 ** channel.n_qubits\n",
    "n_meas_list = np.logspace(3, 5, 3)\n",
    "min_results = []\n",
    "max_results = []\n",
    "for n_measurements in n_meas_list:\n",
    "    n_measurements = int(n_measurements)\n",
    "    tmg = qp.ProcessTomograph(channel, input_states='sic')\n",
    "    tmg.experiment(n_measurements)\n",
    "    bloch_indices = [i for i in range(dim ** 2) if i % dim != 0]\n",
    "\n",
    "    povm_matrix = tmg.tomographs[0].povm_matrix\n",
    "    n_measurements = tmg.tomographs[0].n_measurements\n",
    "\n",
    "    meas_matrix = (np.reshape(povm_matrix * n_measurements[:, None, None] / np.sum(n_measurements),\n",
    "                              (-1, povm_matrix.shape[-1])) \n",
    "                   * povm_matrix.shape[0])\n",
    "    states_matrix = np.asarray([rho.T.bloch for rho in tmg.input_basis.elements])\n",
    "    channel_matrix = np.einsum(\"i a, j b -> i j a b\", states_matrix, meas_matrix[:, 1:]) * dim\n",
    "    channel_matrix = rearrange(channel_matrix, \"i j a b -> (i j) (a b)\")\n",
    "    A = np.ascontiguousarray(channel_matrix)\n",
    "\n",
    "    n_trials = 100\n",
    "    epsilons = list(np.logspace(-5, -0.2, 20)) + list(np.linspace(0.65, 0.99, 10))\n",
    "\n",
    "    min_fidelity = defaultdict(list)\n",
    "    max_fidelity = defaultdict(list)\n",
    "    for _ in tqdm(range(n_trials)):\n",
    "        tmg = qp.ProcessTomograph(channel, input_states='sic')\n",
    "        tmg.experiment(n_measurements)\n",
    "        frequencies = np.asarray([\n",
    "            np.clip(ptmg.raw_results / ptmg.n_measurements[:, None], EPS, 1 - EPS)\n",
    "            for ptmg in tmg.tomographs\n",
    "        ])\n",
    "        for i, epsilon in enumerate(epsilons):\n",
    "            delta = count_delta(1 - epsilon, frequencies, tmg.tomographs[0].n_measurements)\n",
    "            b = (np.hstack(np.concatenate(frequencies, axis=0)) + delta \n",
    "                 - repeat(meas_matrix[:, 0], 'a -> (a b)', b=len(states_matrix)))\n",
    "            c = matrix(target_channel.choi.bloch[bloch_indices])\n",
    "            G, h = matrix(A), matrix(b)\n",
    "            sol = solvers.lp(c, G, h)\n",
    "            min_fidelity[epsilon].append(1/dim + sol['primal objective'])\n",
    "            sol = solvers.lp(-c, G, h)\n",
    "            max_fidelity[epsilon].append(1/dim - sol['primal objective'])\n",
    "    min_results.append(min_fidelity)\n",
    "    max_results.append(max_fidelity)"
   ]
  },
  {
   "cell_type": "code",
   "execution_count": null,
   "metadata": {},
   "outputs": [],
   "source": [
    "legend_elements = [\n",
    "    Line2D([0], [0], color='b', lw=2, label='$n=10^3$'),\n",
    "    Line2D([0], [0], color='g', lw=2, label='$n=10^4$'),\n",
    "    Line2D([0], [0], color='r', lw=2, label='$n=10^5$'),\n",
    "]"
   ]
  },
  {
   "cell_type": "code",
   "execution_count": null,
   "metadata": {},
   "outputs": [],
   "source": [
    "fmts = ['b-', 'g-', 'r-']\n",
    "plt.figure(figsize=(20, 13), dpi=200)\n",
    "plt.grid()\n",
    "plt.xlabel('$\\\\epsilon$')\n",
    "plt.xscale('log')\n",
    "plt.ylabel('Fidelity')\n",
    "for min_fidelity, max_fidelity, fmt in zip(min_results, max_results, fmts):\n",
    "    epsilons = sorted(list(min_fidelity.keys()))\n",
    "    for i in range(n_trials):\n",
    "        minfid = [min_fidelity[epsilon][i] for epsilon in epsilons]\n",
    "        maxfid = [max_fidelity[epsilon][i] for epsilon in epsilons]\n",
    "        plt.plot(epsilons, minfid, fmt, alpha=0.03)\n",
    "        plt.plot(epsilons, maxfid, fmt, alpha=0.03)\n",
    "    if fmt == 'b-':\n",
    "        minfid = [min_fidelity[epsilon][-3] for epsilon in epsilons]  # -3, -6\n",
    "        maxfid = [max_fidelity[epsilon][-3] for epsilon in epsilons]\n",
    "        plt.plot(epsilons, minfid, fmt, epsilons, maxfid, fmt)\n",
    "plt.legend(handles=legend_elements)\n",
    "plt.plot([0, 1], [true_fidelity] * 2, '--k')\n",
    "plt.figtext(0.02, 0.9, \"a)\")\n",
    "plt.savefig('../imgs/fig2a.pdf')"
   ]
  },
  {
   "cell_type": "code",
   "execution_count": null,
   "metadata": {},
   "outputs": [],
   "source": []
  }
 ],
 "metadata": {
  "kernelspec": {
   "display_name": "Python 3 (ipykernel)",
   "language": "python",
   "name": "python3"
  },
  "language_info": {
   "codemirror_mode": {
    "name": "ipython",
    "version": 3
   },
   "file_extension": ".py",
   "mimetype": "text/x-python",
   "name": "python",
   "nbconvert_exporter": "python",
   "pygments_lexer": "ipython3",
   "version": "3.9.5"
  }
 },
 "nbformat": 4,
 "nbformat_minor": 4
}
