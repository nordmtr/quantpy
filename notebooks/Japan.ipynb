{
 "cells": [
  {
   "cell_type": "code",
   "execution_count": 37,
   "metadata": {},
   "outputs": [],
   "source": [
    "import numpy as np\n",
    "import time\n",
    "import warnings\n",
    "import pandas as pd\n",
    "import pickle\n",
    "\n",
    "import quantpy as qp\n",
    "from quantpy.routines import _left_inv\n",
    "\n",
    "from collections import defaultdict, Counter\n",
    "from tqdm.notebook import tqdm\n",
    "\n",
    "warnings.filterwarnings('ignore', category=np.ComplexWarning)"
   ]
  },
  {
   "cell_type": "code",
   "execution_count": 61,
   "metadata": {},
   "outputs": [
    {
     "data": {
      "text/plain": [
       "(1.9999999999999996+0j)"
      ]
     },
     "execution_count": 61,
     "metadata": {},
     "output_type": "execute_result"
    }
   ],
   "source": [
    "pauli = qp.routines.generate_pauli(2)\n",
    "lambdas = pauli / np.sqrt(2)\n",
    "np.trace(lambdas[4] @ lambdas[4])"
   ]
  },
  {
   "cell_type": "code",
   "execution_count": 86,
   "metadata": {},
   "outputs": [
    {
     "data": {
      "text/latex": [
       "Quantum object: \\begin{equation*}\\left(\\begin{array}{*{11}c}0.500 & (0.500+0.012j)\\\\(0.500-0.012j) & 0.500\\\\\\end{array}\\right)\\end{equation*}"
      ],
      "text/plain": [
       "Quantum object\n",
       "array([[0.5    -0.j   , 0.49986+0.012j],\n",
       "       [0.49986-0.012j, 0.5    +0.j   ]])"
      ]
     },
     "execution_count": 86,
     "metadata": {},
     "output_type": "execute_result"
    }
   ],
   "source": [
    "state = qp.qobj.GHZ(1)\n",
    "tmg = qp.StateTomograph(state)\n",
    "tmg.experiment(1000, 'proj-set')\n",
    "state_hat = tmg.point_estimate()\n",
    "state_hat"
   ]
  },
  {
   "cell_type": "code",
   "execution_count": 92,
   "metadata": {},
   "outputs": [
    {
     "data": {
      "text/plain": [
       "(6, 4)"
      ]
     },
     "execution_count": 92,
     "metadata": {},
     "output_type": "execute_result"
    }
   ],
   "source": [
    "povm_matrix = np.reshape(tmg.povm_matrix, (-1, tmg.povm_matrix.shape[-1])) * 2 ** tmg.state.n_qubits\n",
    "inversed_povm = _left_inv(povm_matrix).reshape(\n",
    "    (-1, tmg.povm_matrix.shape[0], tmg.povm_matrix.shape[1]))\n",
    "measurement_ratios = tmg.n_measurements.sum() / tmg.n_measurements\n",
    "povm_matrix.shape"
   ]
  },
  {
   "cell_type": "code",
   "execution_count": 88,
   "metadata": {},
   "outputs": [
    {
     "data": {
      "text/plain": [
       "array([[0., 0., 0.],\n",
       "       [1., 0., 0.],\n",
       "       [0., 1., 0.],\n",
       "       [0., 0., 1.]])"
      ]
     },
     "execution_count": 88,
     "metadata": {},
     "output_type": "execute_result"
    }
   ],
   "source": [
    "np.max(inversed_povm, axis=-1) - np.min(inversed_povm, axis=-1)"
   ]
  },
  {
   "cell_type": "code",
   "execution_count": 90,
   "metadata": {},
   "outputs": [
    {
     "data": {
      "text/plain": [
       "array([0., 3., 3., 3.])"
      ]
     },
     "execution_count": 90,
     "metadata": {},
     "output_type": "execute_result"
    }
   ],
   "source": [
    "c_alpha = np.sum((np.max(inversed_povm, axis=-1) - np.min(inversed_povm, axis=-1)) ** 2 \n",
    "                 * measurement_ratios[None, :], axis=-1) + 1e-15\n",
    "c_alpha"
   ]
  },
  {
   "cell_type": "code",
   "execution_count": 50,
   "metadata": {},
   "outputs": [
    {
     "data": {
      "text/plain": [
       "array([6., 0., 0., 0.])"
      ]
     },
     "execution_count": 50,
     "metadata": {},
     "output_type": "execute_result"
    }
   ],
   "source": [
    "povm_matrix.sum(axis=0)"
   ]
  },
  {
   "cell_type": "code",
   "execution_count": 51,
   "metadata": {},
   "outputs": [
    {
     "data": {
      "text/plain": [
       "array([1. , 0. , 0.5, 0.5, 0.5, 0.5])"
      ]
     },
     "execution_count": 51,
     "metadata": {},
     "output_type": "execute_result"
    }
   ],
   "source": [
    "povm_matrix @ state.bloch"
   ]
  },
  {
   "cell_type": "code",
   "execution_count": 24,
   "metadata": {},
   "outputs": [
    {
     "data": {
      "text/plain": [
       "(9, 4, 16)"
      ]
     },
     "execution_count": 24,
     "metadata": {},
     "output_type": "execute_result"
    }
   ],
   "source": [
    "povm_matrix = qp.measurements.generate_measurement_matrix('proj-set', 2) * 4\n",
    "povm_matrix.shape"
   ]
  },
  {
   "cell_type": "code",
   "execution_count": 25,
   "metadata": {},
   "outputs": [
    {
     "data": {
      "text/plain": [
       "array([1., 1., 0., 0., 1., 1., 0., 0., 0., 0., 0., 0., 0., 0., 0., 0.])"
      ]
     },
     "execution_count": 25,
     "metadata": {},
     "output_type": "execute_result"
    }
   ],
   "source": [
    "povm_matrix[0][0]"
   ]
  },
  {
   "cell_type": "code",
   "execution_count": 16,
   "metadata": {},
   "outputs": [
    {
     "data": {
      "text/latex": [
       "Quantum object: \\begin{equation*}\\left(\\begin{array}{*{11}c}0.250 & 0.250 & 0.250 & 0.250\\\\0.250 & 0.250 & 0.250 & 0.250\\\\0.250 & 0.250 & 0.250 & 0.250\\\\0.250 & 0.250 & 0.250 & 0.250\\\\\\end{array}\\right)\\end{equation*}"
      ],
      "text/plain": [
       "Quantum object\n",
       "array([[0.25+0.j, 0.25+0.j, 0.25+0.j, 0.25+0.j],\n",
       "       [0.25+0.j, 0.25+0.j, 0.25+0.j, 0.25+0.j],\n",
       "       [0.25+0.j, 0.25+0.j, 0.25+0.j, 0.25+0.j],\n",
       "       [0.25+0.j, 0.25+0.j, 0.25+0.j, 0.25+0.j]])"
      ]
     },
     "execution_count": 16,
     "metadata": {},
     "output_type": "execute_result"
    }
   ],
   "source": [
    "qp.Qobj(povm_matrix[0][0])"
   ]
  },
  {
   "cell_type": "code",
   "execution_count": 42,
   "metadata": {},
   "outputs": [
    {
     "data": {
      "text/latex": [
       "Quantum object: \\begin{equation*}\\left(\\begin{array}{*{11}c}0.250 & 0.250 & 0.250 & 0.250\\\\0.250 & 0.250 & 0.250 & 0.250\\\\0.250 & 0.250 & 0.250 & 0.250\\\\0.250 & 0.250 & 0.250 & 0.250\\\\\\end{array}\\right)\\end{equation*}"
      ],
      "text/plain": [
       "Quantum object\n",
       "array([[0.25+0.j, 0.25+0.j, 0.25+0.j, 0.25+0.j],\n",
       "       [0.25+0.j, 0.25+0.j, 0.25+0.j, 0.25+0.j],\n",
       "       [0.25+0.j, 0.25+0.j, 0.25+0.j, 0.25+0.j],\n",
       "       [0.25+0.j, 0.25+0.j, 0.25+0.j, 0.25+0.j]])"
      ]
     },
     "execution_count": 42,
     "metadata": {},
     "output_type": "execute_result"
    }
   ],
   "source": [
    "xpos = qp.Qobj([0.5, 0.5, 0, 0])\n",
    "xpos2 = xpos.kron(xpos)\n",
    "xpos2"
   ]
  },
  {
   "cell_type": "code",
   "execution_count": 23,
   "metadata": {},
   "outputs": [
    {
     "data": {
      "text/plain": [
       "(0.24999999999999994+0j)"
      ]
     },
     "execution_count": 23,
     "metadata": {},
     "output_type": "execute_result"
    }
   ],
   "source": [
    "np.trace(xpos2.matrix @ lambdas[1]) / 2 / np.sqrt(2)"
   ]
  }
 ],
 "metadata": {
  "kernelspec": {
   "display_name": "Python 3",
   "language": "python",
   "name": "python3"
  },
  "language_info": {
   "codemirror_mode": {
    "name": "ipython",
    "version": 3
   },
   "file_extension": ".py",
   "mimetype": "text/x-python",
   "name": "python",
   "nbconvert_exporter": "python",
   "pygments_lexer": "ipython3",
   "version": "3.7.9"
  }
 },
 "nbformat": 4,
 "nbformat_minor": 4
}
