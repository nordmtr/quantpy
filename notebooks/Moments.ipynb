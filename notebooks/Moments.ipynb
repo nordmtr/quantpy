{
 "cells": [
  {
   "cell_type": "code",
   "execution_count": 1,
   "id": "7a23f1a0",
   "metadata": {
    "ExecuteTime": {
     "end_time": "2022-05-30T10:10:32.964968Z",
     "start_time": "2022-05-30T10:10:31.905001Z"
    }
   },
   "outputs": [],
   "source": [
    "import numpy as np\n",
    "import matplotlib\n",
    "import matplotlib.pyplot as plt\n",
    "import time\n",
    "import warnings\n",
    "import pandas as pd\n",
    "import pickle\n",
    "import math\n",
    "import scipy.stats as sts\n",
    "from cvxopt import matrix, solvers\n",
    "import json\n",
    "\n",
    "from tqdm.notebook import tqdm\n",
    "from collections import defaultdict\n",
    "from cycler import cycler\n",
    "from matplotlib.lines import Line2D\n",
    "from scipy.interpolate import interp1d\n",
    "from einops import rearrange\n",
    "\n",
    "import quantpy as qp\n",
    "from quantpy.tomography.interval import ConfidenceInterval, _pop_hidden_keys, Mode\n",
    "from quantpy.routines import _left_inv\n",
    "from quantpy.stats import l2_mean, l2_variance\n",
    "from quantpy.geometry import hs_dst, if_dst, trace_dst\n",
    "\n",
    "titlesize = 48\n",
    "labelsize = 52\n",
    "legendsize = 32\n",
    "xticksize = 40\n",
    "yticksize = xticksize\n",
    "\n",
    "matplotlib.rcParams['legend.markerscale'] = 1.5     # the relative size of legend markers vs. original\n",
    "matplotlib.rcParams['legend.handletextpad'] = 0.5\n",
    "matplotlib.rcParams['legend.labelspacing'] = 0.4    # the vertical space between the legend entries in fraction of fontsize\n",
    "matplotlib.rcParams['legend.borderpad'] = 0.5       # border whitespace in fontsize units\n",
    "matplotlib.rcParams['lines.linewidth'] = 2.5\n",
    "matplotlib.rcParams['font.size'] = 12\n",
    "matplotlib.rcParams['font.family'] = 'serif'\n",
    "matplotlib.rcParams['font.serif'] = 'Times New Roman'\n",
    "matplotlib.rcParams['axes.labelsize'] = labelsize\n",
    "matplotlib.rcParams['axes.titlesize'] = titlesize\n",
    "\n",
    "matplotlib.rc('xtick', labelsize=xticksize)\n",
    "matplotlib.rc('ytick', labelsize=yticksize)\n",
    "matplotlib.rc('legend', fontsize=legendsize)\n",
    "matplotlib.rc('font', **{'family':'serif'})\n",
    "matplotlib.rc('text', usetex=True)\n",
    "matplotlib.rc('text.latex', preamble=r'\\usepackage[utf8]{inputenc}')\n",
    "matplotlib.rc('text.latex', preamble=r'\\usepackage[english]{babel}')\n",
    "matplotlib.rc('text.latex', preamble=r'\\usepackage{amsmath}')\n",
    "\n",
    "warnings.filterwarnings('ignore', category=np.ComplexWarning)\n",
    "\n",
    "%matplotlib inline\n",
    "%load_ext autoreload\n",
    "%autoreload 2"
   ]
  },
  {
   "cell_type": "code",
   "execution_count": 2,
   "id": "30a0b10b",
   "metadata": {
    "ExecuteTime": {
     "end_time": "2022-05-30T10:10:33.013093Z",
     "start_time": "2022-05-30T10:10:32.967685Z"
    }
   },
   "outputs": [
    {
     "data": {
      "text/html": [
       "<div>\n",
       "<style scoped>\n",
       "    .dataframe tbody tr th:only-of-type {\n",
       "        vertical-align: middle;\n",
       "    }\n",
       "\n",
       "    .dataframe tbody tr th {\n",
       "        vertical-align: top;\n",
       "    }\n",
       "\n",
       "    .dataframe thead th {\n",
       "        text-align: right;\n",
       "    }\n",
       "</style>\n",
       "<table border=\"1\" class=\"dataframe\">\n",
       "  <thead>\n",
       "    <tr style=\"text-align: right;\">\n",
       "      <th></th>\n",
       "      <th>name</th>\n",
       "      <th>state</th>\n",
       "      <th>title</th>\n",
       "      <th>povm</th>\n",
       "      <th>n_meas</th>\n",
       "    </tr>\n",
       "  </thead>\n",
       "  <tbody>\n",
       "    <tr>\n",
       "      <th>0</th>\n",
       "      <td>zero1</td>\n",
       "      <td>Quantum object\\narray([[1.+0.j, 0.+0.j],\\n    ...</td>\n",
       "      <td>$|0\\rangle$</td>\n",
       "      <td>proj-set</td>\n",
       "      <td>1000</td>\n",
       "    </tr>\n",
       "    <tr>\n",
       "      <th>1</th>\n",
       "      <td>pure1</td>\n",
       "      <td>Quantum object\\narray([[0.85355339+0.j  , 0.25...</td>\n",
       "      <td>$\\cos\\frac{\\pi}{8}|0\\rangle + \\sin\\frac{\\pi}{8...</td>\n",
       "      <td>proj-set</td>\n",
       "      <td>1000</td>\n",
       "    </tr>\n",
       "    <tr>\n",
       "      <th>2</th>\n",
       "      <td>fullymixed1</td>\n",
       "      <td>Quantum object\\narray([[0.5+0.j, 0. +0.j],\\n  ...</td>\n",
       "      <td>1-qubit fully mixed state</td>\n",
       "      <td>proj-set</td>\n",
       "      <td>1000</td>\n",
       "    </tr>\n",
       "    <tr>\n",
       "      <th>3</th>\n",
       "      <td>zero2</td>\n",
       "      <td>Quantum object\\narray([[1.+0.j, 0.+0.j, 0.+0.j...</td>\n",
       "      <td>$|00\\rangle$</td>\n",
       "      <td>proj-set</td>\n",
       "      <td>10000</td>\n",
       "    </tr>\n",
       "    <tr>\n",
       "      <th>4</th>\n",
       "      <td>ghz2</td>\n",
       "      <td>Quantum object\\narray([[0.5+0.j, 0. +0.j, 0. +...</td>\n",
       "      <td>$|\\Phi^+\\rangle$</td>\n",
       "      <td>proj-set</td>\n",
       "      <td>10000</td>\n",
       "    </tr>\n",
       "    <tr>\n",
       "      <th>5</th>\n",
       "      <td>fullymixed2</td>\n",
       "      <td>Quantum object\\narray([[0.25+0.j, 0.  +0.j, 0....</td>\n",
       "      <td>2-qubit fully mixed state</td>\n",
       "      <td>proj-set</td>\n",
       "      <td>10000</td>\n",
       "    </tr>\n",
       "    <tr>\n",
       "      <th>6</th>\n",
       "      <td>ghz3</td>\n",
       "      <td>Quantum object\\narray([[0.5+0.j, 0. +0.j, 0. +...</td>\n",
       "      <td>3-qubit GHZ state</td>\n",
       "      <td>proj-set</td>\n",
       "      <td>100000</td>\n",
       "    </tr>\n",
       "  </tbody>\n",
       "</table>\n",
       "</div>"
      ],
      "text/plain": [
       "          name                                              state  \\\n",
       "0        zero1  Quantum object\\narray([[1.+0.j, 0.+0.j],\\n    ...   \n",
       "1        pure1  Quantum object\\narray([[0.85355339+0.j  , 0.25...   \n",
       "2  fullymixed1  Quantum object\\narray([[0.5+0.j, 0. +0.j],\\n  ...   \n",
       "3        zero2  Quantum object\\narray([[1.+0.j, 0.+0.j, 0.+0.j...   \n",
       "4         ghz2  Quantum object\\narray([[0.5+0.j, 0. +0.j, 0. +...   \n",
       "5  fullymixed2  Quantum object\\narray([[0.25+0.j, 0.  +0.j, 0....   \n",
       "6         ghz3  Quantum object\\narray([[0.5+0.j, 0. +0.j, 0. +...   \n",
       "\n",
       "                                               title      povm  n_meas  \n",
       "0                                        $|0\\rangle$  proj-set    1000  \n",
       "1  $\\cos\\frac{\\pi}{8}|0\\rangle + \\sin\\frac{\\pi}{8...  proj-set    1000  \n",
       "2                          1-qubit fully mixed state  proj-set    1000  \n",
       "3                                       $|00\\rangle$  proj-set   10000  \n",
       "4                                   $|\\Phi^+\\rangle$  proj-set   10000  \n",
       "5                          2-qubit fully mixed state  proj-set   10000  \n",
       "6                                  3-qubit GHZ state  proj-set  100000  "
      ]
     },
     "execution_count": 2,
     "metadata": {},
     "output_type": "execute_result"
    }
   ],
   "source": [
    "with open('../data/states.pkl', 'rb') as f:\n",
    "    states = pickle.load(f)\n",
    "states"
   ]
  },
  {
   "cell_type": "code",
   "execution_count": 3,
   "id": "900eec73",
   "metadata": {
    "ExecuteTime": {
     "end_time": "2022-05-30T10:10:33.060922Z",
     "start_time": "2022-05-30T10:10:33.015150Z"
    }
   },
   "outputs": [
    {
     "data": {
      "text/html": [
       "<div>\n",
       "<style scoped>\n",
       "    .dataframe tbody tr th:only-of-type {\n",
       "        vertical-align: middle;\n",
       "    }\n",
       "\n",
       "    .dataframe tbody tr th {\n",
       "        vertical-align: top;\n",
       "    }\n",
       "\n",
       "    .dataframe thead th {\n",
       "        text-align: right;\n",
       "    }\n",
       "</style>\n",
       "<table border=\"1\" class=\"dataframe\">\n",
       "  <thead>\n",
       "    <tr style=\"text-align: right;\">\n",
       "      <th></th>\n",
       "      <th>name</th>\n",
       "      <th>process</th>\n",
       "      <th>title</th>\n",
       "      <th>povm</th>\n",
       "      <th>n_meas</th>\n",
       "    </tr>\n",
       "  </thead>\n",
       "  <tbody>\n",
       "    <tr>\n",
       "      <th>0</th>\n",
       "      <td>hadamard</td>\n",
       "      <td>Quantum channel with Choi matrix\\narray([[ 0.5...</td>\n",
       "      <td>Hadamard gate</td>\n",
       "      <td>proj-set</td>\n",
       "      <td>1000</td>\n",
       "    </tr>\n",
       "    <tr>\n",
       "      <th>1</th>\n",
       "      <td>rxpi2</td>\n",
       "      <td>Quantum channel with Choi matrix\\narray([[0.5+...</td>\n",
       "      <td>$RX(\\pi/2)$</td>\n",
       "      <td>proj-set</td>\n",
       "      <td>1000</td>\n",
       "    </tr>\n",
       "    <tr>\n",
       "      <th>2</th>\n",
       "      <td>rypi2</td>\n",
       "      <td>Quantum channel with Choi matrix\\narray([[ 0.5...</td>\n",
       "      <td>$RY(\\pi/2)$</td>\n",
       "      <td>proj-set</td>\n",
       "      <td>1000</td>\n",
       "    </tr>\n",
       "    <tr>\n",
       "      <th>3</th>\n",
       "      <td>dep1</td>\n",
       "      <td>Quantum channel with Choi matrix\\narray([[0.5+...</td>\n",
       "      <td>Fully depolarizing 1-qubit</td>\n",
       "      <td>proj-set</td>\n",
       "      <td>1000</td>\n",
       "    </tr>\n",
       "    <tr>\n",
       "      <th>4</th>\n",
       "      <td>cnot</td>\n",
       "      <td>Quantum channel with Choi matrix\\narray([[1.+0...</td>\n",
       "      <td>CNOT</td>\n",
       "      <td>proj-set</td>\n",
       "      <td>100000</td>\n",
       "    </tr>\n",
       "    <tr>\n",
       "      <th>5</th>\n",
       "      <td>ms</td>\n",
       "      <td>Quantum channel with Choi matrix\\narray([[ 0.5...</td>\n",
       "      <td>Mølmer–Sørensen gate</td>\n",
       "      <td>proj-set</td>\n",
       "      <td>100000</td>\n",
       "    </tr>\n",
       "  </tbody>\n",
       "</table>\n",
       "</div>"
      ],
      "text/plain": [
       "       name                                            process  \\\n",
       "0  hadamard  Quantum channel with Choi matrix\\narray([[ 0.5...   \n",
       "1     rxpi2  Quantum channel with Choi matrix\\narray([[0.5+...   \n",
       "2     rypi2  Quantum channel with Choi matrix\\narray([[ 0.5...   \n",
       "3      dep1  Quantum channel with Choi matrix\\narray([[0.5+...   \n",
       "4      cnot  Quantum channel with Choi matrix\\narray([[1.+0...   \n",
       "5        ms  Quantum channel with Choi matrix\\narray([[ 0.5...   \n",
       "\n",
       "                        title      povm  n_meas  \n",
       "0               Hadamard gate  proj-set    1000  \n",
       "1                 $RX(\\pi/2)$  proj-set    1000  \n",
       "2                 $RY(\\pi/2)$  proj-set    1000  \n",
       "3  Fully depolarizing 1-qubit  proj-set    1000  \n",
       "4                        CNOT  proj-set  100000  \n",
       "5        Mølmer–Sørensen gate  proj-set  100000  "
      ]
     },
     "execution_count": 3,
     "metadata": {},
     "output_type": "execute_result"
    }
   ],
   "source": [
    "with open('../data/processes.pkl', 'rb') as f:\n",
    "    processes = pickle.load(f)\n",
    "processes"
   ]
  },
  {
   "cell_type": "code",
   "execution_count": 14,
   "id": "173c875c",
   "metadata": {
    "ExecuteTime": {
     "end_time": "2022-05-30T10:24:59.245513Z",
     "start_time": "2022-05-30T10:24:59.209820Z"
    }
   },
   "outputs": [],
   "source": [
    "input_states = [[0.5, 0.2886751345948129, 0.2886751345948129, 0.28867513459481287],\n",
    "                [0.5, 0.2886751345948129, -0.2886751345948129, -0.28867513459481287],\n",
    "                [0.5, -0.2886751345948129, 0.2886751345948129, -0.28867513459481287],\n",
    "                [0.5, -0.2886751345948129, -0.2886751345948129, 0.28867513459481287]]\n",
    "povm_matrix = [[[ 0.5,  0.5,  0. ,  0. ],\n",
    "        [ 0.5, -0.5,  0. ,  0. ]],\n",
    "\n",
    "       [[ 0.5,  0. ,  0.5,  0. ],\n",
    "        [ 0.5,  0. , -0.5,  0. ]],\n",
    "\n",
    "       [[ 0.5,  0. ,  0. ,  0.5],\n",
    "        [ 0.5,  0. ,  0. , -0.5]]]\n",
    "# results = [[[7870, 2130], [2066, 7934], [7899, 2101]],\n",
    "#  [[2099, 7901], [7927, 2073], [7870, 2130]],\n",
    "#  [[2183, 7817], [2086, 7914], [2146, 7854]],\n",
    "#  [[7915, 2085], [7823, 2177], [2114, 7886]]]\n",
    "target_channel = list(processes.iloc[0][\"process\"].choi.bloch)\n",
    "\n",
    "input_states = [qp.Qobj(bloch) for bloch in input_states]\n",
    "povm_matrix = np.asarray(povm_matrix)\n",
    "# results = np.asarray(results)\n",
    "target_channel = qp.Channel(qp.Qobj(target_channel))\n",
    "tmg = qp.ProcessTomograph(target_channel, input_states=input_states)\n",
    "tmg.experiment(10000, \"proj-set\")\n",
    "# tmg.results = results"
   ]
  },
  {
   "cell_type": "code",
   "execution_count": 20,
   "id": "89018860",
   "metadata": {
    "ExecuteTime": {
     "end_time": "2022-05-30T10:26:39.017790Z",
     "start_time": "2022-05-30T10:26:38.984880Z"
    }
   },
   "outputs": [
    {
     "data": {
      "text/plain": [
       "array([0.01529795, 0.01764183, 0.01983802])"
      ]
     },
     "execution_count": 20,
     "metadata": {},
     "output_type": "execute_result"
    }
   ],
   "source": [
    "interval = qp.MomentInterval(tmg)\n",
    "interval([0.5, 0.75, 0.9])[0]"
   ]
  },
  {
   "cell_type": "code",
   "execution_count": 15,
   "id": "59a0a61d",
   "metadata": {
    "ExecuteTime": {
     "end_time": "2022-05-30T10:25:06.561406Z",
     "start_time": "2022-05-30T10:25:06.528333Z"
    }
   },
   "outputs": [
    {
     "data": {
      "text/plain": [
       "[[[7896, 2104], [2107, 7893], [7916, 2084]],\n",
       " [[2086, 7914], [7902, 2098], [7966, 2034]],\n",
       " [[2203, 7797], [2124, 7876], [2031, 7969]],\n",
       " [[7863, 2137], [7918, 2082], [2186, 7814]]]"
      ]
     },
     "execution_count": 15,
     "metadata": {},
     "output_type": "execute_result"
    }
   ],
   "source": [
    "tmg.results.tolist()"
   ]
  },
  {
   "cell_type": "code",
   "execution_count": 21,
   "id": "cbdd14fe",
   "metadata": {
    "ExecuteTime": {
     "end_time": "2022-05-30T10:27:31.404833Z",
     "start_time": "2022-05-30T10:27:31.368334Z"
    }
   },
   "outputs": [
    {
     "data": {
      "text/plain": [
       "array([ 5.00000000e-01,  1.20000000e-03,  1.27500000e-03,  2.47500000e-03,\n",
       "       -2.77555756e-17, -3.63730670e-03, -1.42894192e-03,  5.05109317e-01,\n",
       "        0.00000000e+00, -6.49519053e-03,  5.01818420e-01,  8.87676039e-03,\n",
       "        5.55111512e-17,  4.96665569e-01, -4.33012702e-05,  4.54663337e-03])"
      ]
     },
     "execution_count": 21,
     "metadata": {},
     "output_type": "execute_result"
    }
   ],
   "source": [
    "tmg.point_estimate(cptp=False).choi.bloch"
   ]
  },
  {
   "cell_type": "code",
   "execution_count": 5,
   "id": "5e32df9d",
   "metadata": {
    "ExecuteTime": {
     "end_time": "2022-05-30T10:10:39.577750Z",
     "start_time": "2022-05-30T10:10:39.536074Z"
    }
   },
   "outputs": [
    {
     "data": {
      "text/latex": [
       "Choi matrix: Quantum object: \\begin{equation*}\\left(\\begin{array}{*{11}c}0.503 & (0.497+0.002j) & (0.497+0.003j) & (-0.501-0.005j)\\\\(0.497-0.002j) & 0.497 & (0.495+0.002j) & (-0.497-0.003j)\\\\(0.497-0.003j) & (0.495-0.002j) & 0.499 & (-0.497-0.003j)\\\\(-0.501+0.005j) & (-0.497+0.003j) & (-0.497+0.003j) & 0.501\\\\\\end{array}\\right)\\end{equation*}"
      ],
      "text/plain": [
       "Quantum channel with Choi matrix\n",
       "array([[ 0.50321637+0.00000000e+00j,  0.49729217+2.15697599e-03j,\n",
       "         0.49706507+2.56306202e-03j, -0.50099188-4.82421850e-03j],\n",
       "       [ 0.49729217-2.15697599e-03j,  0.49678363-2.16840434e-19j,\n",
       "         0.49479818+2.48192079e-03j, -0.49706507-2.56306202e-03j],\n",
       "       [ 0.49706507-2.56306202e-03j,  0.49479818-2.48192079e-03j,\n",
       "         0.49856023+0.00000000e+00j, -0.49742196-2.79553158e-03j],\n",
       "       [-0.50099188+4.82421850e-03j, -0.49706507+2.56306202e-03j,\n",
       "        -0.49742196+2.79553158e-03j,  0.50143977+0.00000000e+00j]])"
      ]
     },
     "execution_count": 5,
     "metadata": {},
     "output_type": "execute_result"
    }
   ],
   "source": [
    "tmg.point_estimate()"
   ]
  },
  {
   "cell_type": "code",
   "execution_count": 30,
   "id": "2fc52e79",
   "metadata": {
    "ExecuteTime": {
     "end_time": "2022-05-30T09:43:58.456522Z",
     "start_time": "2022-05-30T09:43:58.423852Z"
    }
   },
   "outputs": [
    {
     "data": {
      "text/plain": [
       "[[7826, 2174], [2050, 7950], [7920, 2080]]"
      ]
     },
     "execution_count": 30,
     "metadata": {},
     "output_type": "execute_result"
    }
   ],
   "source": [
    "results[0].tolist()"
   ]
  },
  {
   "cell_type": "code",
   "execution_count": 22,
   "id": "c72215e0",
   "metadata": {
    "ExecuteTime": {
     "end_time": "2022-05-30T09:41:00.791910Z",
     "start_time": "2022-05-30T09:41:00.759814Z"
    },
    "scrolled": true
   },
   "outputs": [
    {
     "data": {
      "text/latex": [
       "Choi matrix: Quantum object: \\begin{equation*}\\left(\\begin{array}{*{11}c}0.500 & 0.500 & 0.500 & -0.500\\\\0.500 & 0.500 & 0.500 & -0.500\\\\0.500 & 0.500 & 0.500 & -0.500\\\\-0.500 & -0.500 & -0.500 & 0.500\\\\\\end{array}\\right)\\end{equation*}"
      ],
      "text/plain": [
       "Quantum channel with Choi matrix\n",
       "array([[ 0.5+0.j,  0.5+0.j,  0.5+0.j, -0.5+0.j],\n",
       "       [ 0.5+0.j,  0.5+0.j,  0.5+0.j, -0.5+0.j],\n",
       "       [ 0.5+0.j,  0.5+0.j,  0.5+0.j, -0.5+0.j],\n",
       "       [-0.5+0.j, -0.5+0.j, -0.5+0.j,  0.5+0.j]])"
      ]
     },
     "execution_count": 22,
     "metadata": {},
     "output_type": "execute_result"
    }
   ],
   "source": [
    "target_channel"
   ]
  },
  {
   "cell_type": "code",
   "execution_count": 17,
   "id": "ee5e7000",
   "metadata": {
    "ExecuteTime": {
     "end_time": "2022-05-30T09:39:37.693827Z",
     "start_time": "2022-05-30T09:39:37.662964Z"
    }
   },
   "outputs": [
    {
     "data": {
      "text/plain": [
       "array([0.5, 0. , 0. , 0. , 0. , 0. , 0. , 0.5, 0. , 0. , 0.5, 0. , 0. ,\n",
       "       0.5, 0. , 0. ])"
      ]
     },
     "execution_count": 17,
     "metadata": {},
     "output_type": "execute_result"
    }
   ],
   "source": [
    "processes.iloc[0][\"process\"].choi.bloch"
   ]
  },
  {
   "cell_type": "code",
   "execution_count": 48,
   "id": "492b06c3",
   "metadata": {
    "ExecuteTime": {
     "end_time": "2022-05-30T13:08:27.463812Z",
     "start_time": "2022-05-30T13:08:27.428519Z"
    }
   },
   "outputs": [
    {
     "data": {
      "text/plain": [
       "(array([0.5, 0. , 0. , 0. ]), 0.5)"
      ]
     },
     "execution_count": 48,
     "metadata": {},
     "output_type": "execute_result"
    }
   ],
   "source": [
    "channel = processes.iloc[1][\"process\"]\n",
    "dim_in = dim_out = 2 ** channel.n_qubits\n",
    "dim = dim_in * dim_out\n",
    "# bloch_indices1 = [i for i in range(dim ** 2) if i % (dim_out ** 2) == 0]\n",
    "trivial_indices = list(range(0, dim ** 2, dim_out ** 2))\n",
    "np.eye(dim ** 2)[trivial_indices] @ channel.choi.bloch, 1 / dim_in"
   ]
  },
  {
   "cell_type": "code",
   "execution_count": 25,
   "id": "c59e607e",
   "metadata": {
    "ExecuteTime": {
     "end_time": "2022-05-30T12:53:48.764438Z",
     "start_time": "2022-05-30T12:53:48.731484Z"
    }
   },
   "outputs": [
    {
     "data": {
      "text/plain": [
       "[0, 4, 8, 12]"
      ]
     },
     "execution_count": 25,
     "metadata": {},
     "output_type": "execute_result"
    }
   ],
   "source": [
    "channel.choi.bloch[bloch_indices]"
   ]
  },
  {
   "cell_type": "code",
   "execution_count": null,
   "id": "7d0daa97",
   "metadata": {},
   "outputs": [],
   "source": [
    "qp.Channel()"
   ]
  },
  {
   "cell_type": "code",
   "execution_count": 14,
   "id": "fa68f00b",
   "metadata": {
    "ExecuteTime": {
     "end_time": "2022-05-30T09:37:13.696771Z",
     "start_time": "2022-05-30T09:37:13.665774Z"
    }
   },
   "outputs": [
    {
     "data": {
      "text/plain": [
       "array([[[ 0.5,  0.5,  0. ,  0. ],\n",
       "        [ 0.5, -0.5,  0. ,  0. ]],\n",
       "\n",
       "       [[ 0.5,  0. ,  0.5,  0. ],\n",
       "        [ 0.5,  0. , -0.5,  0. ]],\n",
       "\n",
       "       [[ 0.5,  0. ,  0. ,  0.5],\n",
       "        [ 0.5,  0. ,  0. , -0.5]]])"
      ]
     },
     "execution_count": 14,
     "metadata": {},
     "output_type": "execute_result"
    }
   ],
   "source": [
    "tmg.tomographs[0].povm_matrix"
   ]
  },
  {
   "cell_type": "code",
   "execution_count": 3,
   "id": "a0fef6c4",
   "metadata": {
    "ExecuteTime": {
     "end_time": "2022-05-27T12:53:11.695757Z",
     "start_time": "2022-05-27T12:53:11.657508Z"
    }
   },
   "outputs": [],
   "source": [
    "target_state = qp.Qobj([0.5, 0, 0, 0.5])"
   ]
  },
  {
   "cell_type": "code",
   "execution_count": 42,
   "id": "b4a0cc85",
   "metadata": {
    "ExecuteTime": {
     "end_time": "2022-05-27T13:04:58.326872Z",
     "start_time": "2022-05-27T13:04:57.730813Z"
    }
   },
   "outputs": [],
   "source": [
    "with open(\"../input.json\", \"r\") as fp:\n",
    "    input_data = json.load(fp)\n",
    "\n",
    "output = dict()\n",
    "\n",
    "results = np.asarray(input_data[\"outcomes\"])\n",
    "povm_matrix = np.asarray(input_data[\"povm_matrix\"])\n",
    "\n",
    "state = qp.Qobj(povm_matrix[0, 0])\n",
    "n_measurements = results.sum(-1, dtype=float)\n",
    "tmg = qp.StateTomograph(state)\n",
    "tmg.experiment(n_measurements, povm_matrix)\n",
    "tmg.raw_results = results\n",
    "output[\"state\"] = list(tmg.point_estimate(physical=False).bloch)\n",
    "\n",
    "target_state = qp.Qobj(input_data[\"target_state\"])\n",
    "interval = qp.MomentFidelityStateInterval(tmg, target_state=target_state)\n",
    "interval.setup()\n",
    "(fidelity_min, fidelity_max), _ = interval(input_data[\"conf_levels\"])\n",
    "output[\"fidelity_min\"] = list(fidelity_min)\n",
    "output[\"fidelity_max\"] = list(fidelity_max)"
   ]
  },
  {
   "cell_type": "code",
   "execution_count": 13,
   "id": "a502c2d5",
   "metadata": {
    "ExecuteTime": {
     "end_time": "2022-05-27T12:58:24.649952Z",
     "start_time": "2022-05-27T12:58:24.618200Z"
    }
   },
   "outputs": [
    {
     "data": {
      "text/plain": [
       "array([0.49799283, 0.49724833, 0.49652007])"
      ]
     },
     "execution_count": 13,
     "metadata": {},
     "output_type": "execute_result"
    }
   ],
   "source": [
    "fidelity_min"
   ]
  },
  {
   "cell_type": "code",
   "execution_count": 12,
   "id": "7884f807",
   "metadata": {
    "ExecuteTime": {
     "end_time": "2022-05-27T12:57:22.264392Z",
     "start_time": "2022-05-27T12:57:22.232826Z"
    }
   },
   "outputs": [
    {
     "data": {
      "text/plain": [
       "[0.5, -0.0014199999999999814, -0.002310000000000039, 0.44977]"
      ]
     },
     "execution_count": 12,
     "metadata": {},
     "output_type": "execute_result"
    }
   ],
   "source": [
    "output[\"state\"]"
   ]
  },
  {
   "cell_type": "code",
   "execution_count": 11,
   "id": "11692f59",
   "metadata": {
    "ExecuteTime": {
     "end_time": "2022-05-27T12:57:18.909159Z",
     "start_time": "2022-05-27T12:57:18.874946Z"
    }
   },
   "outputs": [
    {
     "data": {
      "text/latex": [
       "Quantum object: \\begin{equation*}\\left(\\begin{array}{*{11}c}1.0 & 0.0\\\\0.0 & 0.0\\\\\\end{array}\\right)\\end{equation*}"
      ],
      "text/plain": [
       "Quantum object\n",
       "array([[1.+0.j, 0.+0.j],\n",
       "       [0.+0.j, 0.+0.j]])"
      ]
     },
     "execution_count": 11,
     "metadata": {},
     "output_type": "execute_result"
    }
   ],
   "source": [
    "target_state"
   ]
  },
  {
   "cell_type": "code",
   "execution_count": 9,
   "id": "b3632c81",
   "metadata": {
    "ExecuteTime": {
     "end_time": "2022-05-27T12:57:05.633411Z",
     "start_time": "2022-05-27T12:57:05.604344Z"
    }
   },
   "outputs": [
    {
     "data": {
      "text/plain": [
       "{'state': [0.5, -0.0014199999999999814, -0.002310000000000039, 0.44977],\n",
       " 'fidelity_min': [0.4979928303036564, 0.4972483320056992, 0.49652006537747223],\n",
       " 'fidelity_max': [0.5020071696963437, 0.5027516679943007, 0.5034799346225277]}"
      ]
     },
     "execution_count": 9,
     "metadata": {},
     "output_type": "execute_result"
    }
   ],
   "source": [
    "output"
   ]
  },
  {
   "cell_type": "code",
   "execution_count": 7,
   "id": "dfe32ffd",
   "metadata": {
    "ExecuteTime": {
     "end_time": "2022-05-27T12:56:27.247847Z",
     "start_time": "2022-05-27T12:56:27.217650Z"
    }
   },
   "outputs": [
    {
     "data": {
      "text/plain": [
       "[0.5, -0.0014199999999999814, -0.002310000000000039, 0.44977]"
      ]
     },
     "execution_count": 7,
     "metadata": {},
     "output_type": "execute_result"
    }
   ],
   "source": [
    "output[\"state\"]"
   ]
  },
  {
   "cell_type": "code",
   "execution_count": 50,
   "id": "0bec7fc1",
   "metadata": {
    "ExecuteTime": {
     "end_time": "2022-05-27T13:06:59.998148Z",
     "start_time": "2022-05-27T13:06:59.404548Z"
    }
   },
   "outputs": [],
   "source": [
    "target_state = states.iloc[0].state\n",
    "dim = 2 ** target_state.n_qubits\n",
    "n_meas = 10000\n",
    "dep_channel = qp.channel.depolarizing(0., n_qubits=target_state.n_qubits)\n",
    "state = dep_channel.transform(target_state)\n",
    "\n",
    "new_tmg = qp.StateTomograph(state)\n",
    "new_tmg.experiment(n_meas)\n",
    "new_tmg.raw_results = results\n",
    "\n",
    "fidelity = np.dot(target_state.bloch, state.bloch) * dim\n",
    "interval = qp.MomentFidelityStateInterval(tmg, target_state=target_state)\n",
    "# epsilons = np.logspace(-5, -0.01, 1000)\n",
    "epsilons = np.linspace(1e-4, 1-1e-4, 1000)\n",
    "conf_levels = 1 - epsilons\n",
    "(dist_min, dist_max), conf_levels = interval(input_data[\"conf_levels\"])"
   ]
  },
  {
   "cell_type": "code",
   "execution_count": 51,
   "id": "d5736edb",
   "metadata": {
    "ExecuteTime": {
     "end_time": "2022-05-27T13:07:01.933431Z",
     "start_time": "2022-05-27T13:07:01.354790Z"
    }
   },
   "outputs": [
    {
     "data": {
      "text/plain": [
       "array([0.99411327, 0.9916752 , 0.98927072])"
      ]
     },
     "execution_count": 51,
     "metadata": {},
     "output_type": "execute_result"
    }
   ],
   "source": [
    "interval = qp.MomentFidelityStateInterval(new_tmg, target_state=target_state)\n",
    "(dist_min, dist_max), conf_levels = interval(input_data[\"conf_levels\"])\n",
    "dist_min"
   ]
  },
  {
   "cell_type": "code",
   "execution_count": 52,
   "id": "63ebebd9",
   "metadata": {
    "ExecuteTime": {
     "end_time": "2022-05-27T13:07:07.720444Z",
     "start_time": "2022-05-27T13:07:07.124069Z"
    }
   },
   "outputs": [
    {
     "data": {
      "text/plain": [
       "array([0.49411327, 0.4916749 , 0.48927072])"
      ]
     },
     "execution_count": 52,
     "metadata": {},
     "output_type": "execute_result"
    }
   ],
   "source": [
    "interval = qp.MomentFidelityStateInterval(tmg, target_state=target_state)\n",
    "(dist_min, dist_max), conf_levels = interval(input_data[\"conf_levels\"])\n",
    "dist_min"
   ]
  },
  {
   "cell_type": "code",
   "execution_count": 46,
   "id": "9c87ae05",
   "metadata": {
    "ExecuteTime": {
     "end_time": "2022-05-27T13:05:41.964149Z",
     "start_time": "2022-05-27T13:05:41.931123Z"
    }
   },
   "outputs": [
    {
     "data": {
      "text/plain": [
       "array([10000., 10000., 10000.])"
      ]
     },
     "execution_count": 46,
     "metadata": {},
     "output_type": "execute_result"
    }
   ],
   "source": [
    "new_tmg.n_measurements"
   ]
  },
  {
   "cell_type": "code",
   "execution_count": 47,
   "id": "e63aa365",
   "metadata": {
    "ExecuteTime": {
     "end_time": "2022-05-27T13:05:42.162450Z",
     "start_time": "2022-05-27T13:05:42.130196Z"
    }
   },
   "outputs": [
    {
     "data": {
      "text/plain": [
       "array([10000., 10000., 10000.])"
      ]
     },
     "execution_count": 47,
     "metadata": {},
     "output_type": "execute_result"
    }
   ],
   "source": [
    "tmg.n_measurements"
   ]
  },
  {
   "cell_type": "code",
   "execution_count": null,
   "id": "3abf0bfe",
   "metadata": {},
   "outputs": [],
   "source": [
    "interval = qp.MomentFidelityStateInterval(tmg, target_state=target_state)\n",
    "(dist_min, dist_max), conf_levels = interval(input_data[\"conf_levels\"])\n",
    "dist_min"
   ]
  },
  {
   "cell_type": "code",
   "execution_count": 30,
   "id": "ba5a288b",
   "metadata": {
    "ExecuteTime": {
     "end_time": "2022-05-27T13:00:58.220847Z",
     "start_time": "2022-05-27T13:00:58.173551Z"
    }
   },
   "outputs": [
    {
     "data": {
      "text/plain": [
       "array([[ 4955,  5045],\n",
       "       [ 4943,  5057],\n",
       "       [10000,     0]])"
      ]
     },
     "execution_count": 30,
     "metadata": {},
     "output_type": "execute_result"
    }
   ],
   "source": [
    "tmg.raw_results"
   ]
  },
  {
   "cell_type": "code",
   "execution_count": 27,
   "id": "cf602a57",
   "metadata": {
    "ExecuteTime": {
     "end_time": "2022-05-27T13:00:36.728408Z",
     "start_time": "2022-05-27T13:00:36.686747Z"
    }
   },
   "outputs": [
    {
     "data": {
      "text/plain": [
       "array([ 0.5  , -0.023,  0.012,  0.5  ])"
      ]
     },
     "execution_count": 27,
     "metadata": {},
     "output_type": "execute_result"
    }
   ],
   "source": [
    "tmg.point_estimate(physical=False).bloch"
   ]
  },
  {
   "cell_type": "code",
   "execution_count": 18,
   "id": "be658dcb",
   "metadata": {
    "ExecuteTime": {
     "end_time": "2022-05-27T12:59:00.370261Z",
     "start_time": "2022-05-27T12:59:00.338308Z"
    }
   },
   "outputs": [
    {
     "data": {
      "text/latex": [
       "Quantum object: \\begin{equation*}\\left(\\begin{array}{*{11}c}1.0 & 0.0\\\\0.0 & 0.0\\\\\\end{array}\\right)\\end{equation*}"
      ],
      "text/plain": [
       "Quantum object\n",
       "array([[1.+0.j, 0.+0.j],\n",
       "       [0.+0.j, 0.+0.j]])"
      ]
     },
     "execution_count": 18,
     "metadata": {},
     "output_type": "execute_result"
    }
   ],
   "source": [
    "state"
   ]
  },
  {
   "cell_type": "code",
   "execution_count": 19,
   "id": "b1ea816a",
   "metadata": {
    "ExecuteTime": {
     "end_time": "2022-05-27T12:59:06.785640Z",
     "start_time": "2022-05-27T12:59:06.753121Z"
    }
   },
   "outputs": [
    {
     "data": {
      "text/latex": [
       "Quantum object: \\begin{equation*}\\left(\\begin{array}{*{11}c}1.0 & 0.0\\\\0.0 & 0.0\\\\\\end{array}\\right)\\end{equation*}"
      ],
      "text/plain": [
       "Quantum object\n",
       "array([[1.+0.j, 0.+0.j],\n",
       "       [0.+0.j, 0.+0.j]])"
      ]
     },
     "execution_count": 19,
     "metadata": {},
     "output_type": "execute_result"
    }
   ],
   "source": [
    "target_state"
   ]
  },
  {
   "cell_type": "code",
   "execution_count": 17,
   "id": "d2359a9e",
   "metadata": {
    "ExecuteTime": {
     "end_time": "2022-05-27T12:58:54.059545Z",
     "start_time": "2022-05-27T12:58:54.025362Z"
    }
   },
   "outputs": [
    {
     "data": {
      "text/plain": [
       "array([0.98138501, 0.97367443, 0.96607196])"
      ]
     },
     "execution_count": 17,
     "metadata": {},
     "output_type": "execute_result"
    }
   ],
   "source": [
    "dist_min"
   ]
  },
  {
   "cell_type": "code",
   "execution_count": 5,
   "id": "c4ea2075",
   "metadata": {
    "ExecuteTime": {
     "end_time": "2022-05-27T12:53:13.405883Z",
     "start_time": "2022-05-27T12:53:13.369620Z"
    }
   },
   "outputs": [
    {
     "data": {
      "text/plain": [
       "array([0.91333265, 0.94155443, 0.94446131, 0.94625971, 0.94758267,\n",
       "       0.94863699, 0.94951744, 0.95027568, 0.95094309, 0.95154019,\n",
       "       0.95208119, 0.95257633, 0.95303325, 0.9534578 , 0.95385456,\n",
       "       0.95422721, 0.9545787 , 0.95491149, 0.95522762, 0.95552881,\n",
       "       0.95581652, 0.956092  , 0.95635634, 0.95661048, 0.95685524,\n",
       "       0.95709134, 0.95731944, 0.95754012, 0.9577539 , 0.95796124,\n",
       "       0.95816254, 0.95835819, 0.95854854, 0.95873388, 0.9589145 ,\n",
       "       0.95909066, 0.95926261, 0.95943056, 0.95959471, 0.95975525,\n",
       "       0.95991236, 0.96006619, 0.9602169 , 0.96036462, 0.96050949,\n",
       "       0.96065163, 0.96079115, 0.96092815, 0.96106275, 0.96119502,\n",
       "       0.96132507, 0.96145298, 0.96157882, 0.96170266, 0.96182459,\n",
       "       0.96194467, 0.96206295, 0.96217951, 0.96229439, 0.96240766,\n",
       "       0.96251935, 0.96262954, 0.96273824, 0.96284553, 0.96295143,\n",
       "       0.96305598, 0.96315924, 0.96326122, 0.96336198, 0.96346154,\n",
       "       0.96355993, 0.96365719, 0.96375335, 0.96384843, 0.96394247,\n",
       "       0.96403549, 0.96412751, 0.96421857, 0.96430868, 0.96439786,\n",
       "       0.96448615, 0.96457356, 0.9646601 , 0.96474581, 0.9648307 ,\n",
       "       0.96491479, 0.96499809, 0.96508063, 0.96516241, 0.96524346,\n",
       "       0.9653238 , 0.96540343, 0.96548237, 0.96556064, 0.96563824,\n",
       "       0.9657152 , 0.96579153, 0.96586723, 0.96594232, 0.96601681,\n",
       "       0.96609072, 0.96616405, 0.96623682, 0.96630903, 0.9663807 ,\n",
       "       0.96645184, 0.96652245, 0.96659254, 0.96666213, 0.96673122,\n",
       "       0.96679982, 0.96686794, 0.96693559, 0.96700278, 0.96706951,\n",
       "       0.96713579, 0.96720163, 0.96726704, 0.96733202, 0.96739658,\n",
       "       0.96746072, 0.96752446, 0.9675878 , 0.96765074, 0.9677133 ,\n",
       "       0.96777548, 0.96783727, 0.9678987 , 0.96795976, 0.96802047,\n",
       "       0.96808082, 0.96814082, 0.96820047, 0.96825979, 0.96831877,\n",
       "       0.96837742, 0.96843575, 0.96849376, 0.96855145, 0.96860883,\n",
       "       0.96866591, 0.96872268, 0.96877915, 0.96883533, 0.96889122,\n",
       "       0.96894682, 0.96900213, 0.96905717, 0.96911193, 0.96916642,\n",
       "       0.96922064, 0.9692746 , 0.96932829, 0.96938172, 0.9694349 ,\n",
       "       0.96948783, 0.96954051, 0.96959294, 0.96964513, 0.96969708,\n",
       "       0.96974879, 0.96980026, 0.96985151, 0.96990253, 0.96995332,\n",
       "       0.97000389, 0.97005423, 0.97010436, 0.97015428, 0.97020398,\n",
       "       0.97025346, 0.97030275, 0.97035182, 0.97040069, 0.97044936,\n",
       "       0.97049783, 0.97054611, 0.97059419, 0.97064207, 0.97068977,\n",
       "       0.97073727, 0.9707846 , 0.97083173, 0.97087869, 0.97092546,\n",
       "       0.97097205, 0.97101847, 0.97106472, 0.97111079, 0.97115668,\n",
       "       0.97120241, 0.97124798, 0.97129337, 0.9713386 , 0.97138367,\n",
       "       0.97142858, 0.97147333, 0.97151792, 0.97156235, 0.97160663,\n",
       "       0.97165058, 0.97169394, 0.97173729, 0.97178064, 0.971824  ,\n",
       "       0.97186735, 0.9719107 , 0.97195406, 0.97199741, 0.97204076,\n",
       "       0.97208375, 0.97212572, 0.97216769, 0.97220966, 0.97225163,\n",
       "       0.97229361, 0.97233558, 0.97237755, 0.97241952, 0.97246149,\n",
       "       0.97250312, 0.97254383, 0.97258454, 0.97262525, 0.97266597,\n",
       "       0.97270668, 0.97274739, 0.9727881 , 0.97282882, 0.97286953,\n",
       "       0.97290991, 0.97294948, 0.97298904, 0.9730286 , 0.97306816,\n",
       "       0.97310772, 0.97314728, 0.97318684, 0.9732264 , 0.97326596,\n",
       "       0.97330521, 0.97334372, 0.97338222, 0.97342072, 0.97345923,\n",
       "       0.97349773, 0.97353623, 0.97357474, 0.97361324, 0.97365174,\n",
       "       0.97368996, 0.97372749, 0.97376502, 0.97380255, 0.97384008,\n",
       "       0.97387761, 0.97391514, 0.97395267, 0.9739902 , 0.97402774,\n",
       "       0.97406499, 0.97410162, 0.97413826, 0.97417489, 0.97421153,\n",
       "       0.97424816, 0.97428479, 0.97432143, 0.97435806, 0.97439469,\n",
       "       0.97443107, 0.97446687, 0.97450267, 0.97453848, 0.97457428,\n",
       "       0.97461009, 0.97464589, 0.9746817 , 0.9747175 , 0.9747533 ,\n",
       "       0.97478886, 0.9748239 , 0.97485893, 0.97489397, 0.974929  ,\n",
       "       0.97496404, 0.97499907, 0.97503411, 0.97506915, 0.97510418,\n",
       "       0.97513898, 0.9751733 , 0.97520763, 0.97524195, 0.97527627,\n",
       "       0.9753106 , 0.97534492, 0.97537924, 0.97541356, 0.97544789,\n",
       "       0.97548198, 0.97551564, 0.9755493 , 0.97558296, 0.97561662,\n",
       "       0.97565028, 0.97568395, 0.97571761, 0.97575127, 0.97578493,\n",
       "       0.97581837, 0.97585141, 0.97588446, 0.9759175 , 0.97595054,\n",
       "       0.97598359, 0.97601663, 0.97604967, 0.97608272, 0.97611576,\n",
       "       0.9761486 , 0.97618107, 0.97621354, 0.97624601, 0.97627848,\n",
       "       0.97631094, 0.97634341, 0.97637588, 0.97640835, 0.97644082,\n",
       "       0.97647309, 0.97650503, 0.97653696, 0.97656889, 0.97660082,\n",
       "       0.97663276, 0.97666469, 0.97669662, 0.97672856, 0.97676049,\n",
       "       0.97679224, 0.97682367, 0.9768551 , 0.97688653, 0.97691797,\n",
       "       0.9769494 , 0.97698083, 0.97701227, 0.9770437 , 0.97707513,\n",
       "       0.97710639, 0.97713735, 0.97716832, 0.97719928, 0.97723025,\n",
       "       0.97726122, 0.97729218, 0.97732315, 0.97735411, 0.97738508,\n",
       "       0.97741588, 0.97744641, 0.97747693, 0.97750746, 0.97753799,\n",
       "       0.97756852, 0.97759905, 0.97762958, 0.97766011, 0.97769064,\n",
       "       0.97772101, 0.97775113, 0.97778125, 0.97781138, 0.9778415 ,\n",
       "       0.97787162, 0.97790174, 0.97793187, 0.97796199, 0.97799211,\n",
       "       0.97802208, 0.97805182, 0.97808156, 0.9781113 , 0.97814104,\n",
       "       0.97817078, 0.97820053, 0.97823027, 0.97826001, 0.97828975,\n",
       "       0.97831935, 0.97834873, 0.97837812, 0.9784075 , 0.97843689,\n",
       "       0.97846627, 0.97849566, 0.97852505, 0.97855443, 0.97858382,\n",
       "       0.97861306, 0.97864212, 0.97867117, 0.97870023, 0.97872928,\n",
       "       0.97875833, 0.97878739, 0.97881644, 0.97884549, 0.97887455,\n",
       "       0.97890347, 0.97893221, 0.97896096, 0.9789897 , 0.97901845,\n",
       "       0.97904719, 0.97907593, 0.97910468, 0.97913342, 0.97916217,\n",
       "       0.97919079, 0.97921924, 0.9792477 , 0.97927615, 0.97930461,\n",
       "       0.97933306, 0.97936152, 0.97938998, 0.97941843, 0.97944689,\n",
       "       0.97947522, 0.97950341, 0.9795316 , 0.97955978, 0.97958797,\n",
       "       0.97961616, 0.97964435, 0.97967253, 0.97970072, 0.97972891,\n",
       "       0.97975698, 0.97978492, 0.97981286, 0.9798408 , 0.97986873,\n",
       "       0.97989667, 0.97992461, 0.97995255, 0.97998048, 0.98000842,\n",
       "       0.98003625, 0.98006396, 0.98009167, 0.98011937, 0.98014708,\n",
       "       0.98017479, 0.98020249, 0.9802302 , 0.98025791, 0.98028561,\n",
       "       0.98031322, 0.98034071, 0.98036821, 0.9803957 , 0.98042319,\n",
       "       0.98045068, 0.98047818, 0.98050567, 0.98053316, 0.98056066,\n",
       "       0.98058806, 0.98061535, 0.98064265, 0.98066994, 0.98069724,\n",
       "       0.98072454, 0.98075183, 0.98077913, 0.98080642, 0.98083372,\n",
       "       0.98086093, 0.98088804, 0.98091516, 0.98094227, 0.98096939,\n",
       "       0.9809965 , 0.98102362, 0.98105073, 0.98107785, 0.98110497,\n",
       "       0.981132  , 0.98115895, 0.9811859 , 0.98121285, 0.9812398 ,\n",
       "       0.98126675, 0.9812937 , 0.98132065, 0.9813476 , 0.98137455,\n",
       "       0.98140143, 0.98142823, 0.98145503, 0.98148183, 0.98150863,\n",
       "       0.98153543, 0.98156223, 0.98158903, 0.98161583, 0.98164263,\n",
       "       0.98166936, 0.98169603, 0.9817227 , 0.98174936, 0.98177603,\n",
       "       0.98180269, 0.98182936, 0.98185602, 0.98188269, 0.98190935,\n",
       "       0.98193596, 0.9819625 , 0.98198905, 0.98201559, 0.98204214,\n",
       "       0.98206868, 0.98209523, 0.98212177, 0.98214832, 0.98217486,\n",
       "       0.98220135, 0.98222779, 0.98225423, 0.98228067, 0.98230711,\n",
       "       0.98233355, 0.98235999, 0.98238642, 0.98241286, 0.9824393 ,\n",
       "       0.98246569, 0.98249204, 0.98251839, 0.98254473, 0.98257108,\n",
       "       0.98259743, 0.98262377, 0.98265012, 0.98267647, 0.98270281,\n",
       "       0.98272912, 0.98275539, 0.98278165, 0.98280792, 0.98283419,\n",
       "       0.98286046, 0.98288673, 0.982913  , 0.98293926, 0.98296553,\n",
       "       0.98299177, 0.98301797, 0.98304417, 0.98307038, 0.98309658,\n",
       "       0.98312279, 0.98314899, 0.98317519, 0.9832014 , 0.9832276 ,\n",
       "       0.98325378, 0.98327993, 0.98330608, 0.98333224, 0.98335839,\n",
       "       0.98338454, 0.9834107 , 0.98343685, 0.983463  , 0.98348916,\n",
       "       0.98351529, 0.98354141, 0.98356752, 0.98359364, 0.98361975,\n",
       "       0.98364587, 0.98367199, 0.9836981 , 0.98372422, 0.98375033,\n",
       "       0.98377644, 0.98380253, 0.98382862, 0.98385472, 0.98388081,\n",
       "       0.9839069 , 0.983933  , 0.98395909, 0.98398518, 0.98401128,\n",
       "       0.98403736, 0.98406345, 0.98408953, 0.98411561, 0.9841417 ,\n",
       "       0.98416778, 0.98419387, 0.98421995, 0.98424603, 0.98427212,\n",
       "       0.9842982 , 0.98432429, 0.98435038, 0.98437647, 0.98440256,\n",
       "       0.98442865, 0.98445474, 0.98448083, 0.98450692, 0.984533  ,\n",
       "       0.9845591 , 0.98458521, 0.98461132, 0.98463743, 0.98466354,\n",
       "       0.98468965, 0.98471575, 0.98474186, 0.98476797, 0.98479408,\n",
       "       0.98482024, 0.98484644, 0.98487264, 0.98489883, 0.98492503,\n",
       "       0.98495123, 0.98497743, 0.98500362, 0.98502982, 0.98505602,\n",
       "       0.98508221, 0.9851084 , 0.98513459, 0.98516078, 0.98518697,\n",
       "       0.98521316, 0.98523935, 0.98526554, 0.98529174, 0.98531793,\n",
       "       0.98534412, 0.98537033, 0.98539653, 0.98542273, 0.98544893,\n",
       "       0.98547513, 0.98550134, 0.98552754, 0.98555374, 0.98557994,\n",
       "       0.98560623, 0.98563257, 0.98565891, 0.98568524, 0.98571158,\n",
       "       0.98573792, 0.98576426, 0.98579059, 0.98581693, 0.98584327,\n",
       "       0.98586967, 0.9858961 , 0.98592254, 0.98594897, 0.98597541,\n",
       "       0.98600185, 0.98602828, 0.98605472, 0.98608115, 0.98610759,\n",
       "       0.9861341 , 0.98616065, 0.9861872 , 0.98621375, 0.9862403 ,\n",
       "       0.98626685, 0.9862934 , 0.98631995, 0.9863465 , 0.98637306,\n",
       "       0.98639969, 0.98642638, 0.98645306, 0.98647975, 0.98650643,\n",
       "       0.98653312, 0.9865598 , 0.98658649, 0.98661317, 0.98663986,\n",
       "       0.98666665, 0.98669348, 0.98672032, 0.98674716, 0.986774  ,\n",
       "       0.98680084, 0.98682768, 0.98685452, 0.98688136, 0.9869082 ,\n",
       "       0.98693515, 0.98696216, 0.98698918, 0.98701619, 0.9870432 ,\n",
       "       0.98707022, 0.98709723, 0.98712424, 0.98715126, 0.98717827,\n",
       "       0.98720542, 0.98723263, 0.98725984, 0.98728705, 0.98731426,\n",
       "       0.98734147, 0.98736868, 0.98739589, 0.9874231 , 0.98745031,\n",
       "       0.98747767, 0.9875051 , 0.98753253, 0.98755996, 0.98758739,\n",
       "       0.98761482, 0.98764225, 0.98766968, 0.98769711, 0.98772454,\n",
       "       0.98775214, 0.98777982, 0.98780749, 0.98783517, 0.98786285,\n",
       "       0.98789052, 0.9879182 , 0.98794588, 0.98797355, 0.98800123,\n",
       "       0.9880291 , 0.98805705, 0.988085  , 0.98811295, 0.9881409 ,\n",
       "       0.98816885, 0.9881968 , 0.98822475, 0.9882527 , 0.98828065,\n",
       "       0.98830882, 0.98833707, 0.98836533, 0.98839358, 0.98842184,\n",
       "       0.98845009, 0.98847835, 0.9885066 , 0.98853485, 0.98856311,\n",
       "       0.9885916 , 0.9886202 , 0.98864879, 0.98867738, 0.98870597,\n",
       "       0.98873456, 0.98876315, 0.98879175, 0.98882034, 0.98884893,\n",
       "       0.98887779, 0.98890676, 0.98893572, 0.98896469, 0.98899365,\n",
       "       0.98902262, 0.98905159, 0.98908055, 0.98910952, 0.98913848,\n",
       "       0.98916775, 0.98919713, 0.98922651, 0.98925589, 0.98928527,\n",
       "       0.98931465, 0.98934403, 0.98937341, 0.98940279, 0.98943217,\n",
       "       0.98946189, 0.98949173, 0.98952157, 0.98955141, 0.98958125,\n",
       "       0.98961109, 0.98964092, 0.98967076, 0.9897006 , 0.98973044,\n",
       "       0.98976066, 0.98979101, 0.98982136, 0.98985171, 0.98988206,\n",
       "       0.98991241, 0.98994276, 0.98997311, 0.99000346, 0.99003381,\n",
       "       0.99006459, 0.99009551, 0.99012643, 0.99015735, 0.99018826,\n",
       "       0.99021918, 0.9902501 , 0.99028102, 0.99031194, 0.99034285,\n",
       "       0.99037426, 0.99040581, 0.99043736, 0.99046891, 0.99050046,\n",
       "       0.99053202, 0.99056357, 0.99059512, 0.99062667, 0.99065823,\n",
       "       0.99069035, 0.99072265, 0.99075494, 0.99078724, 0.99081953,\n",
       "       0.99085183, 0.99088412, 0.99091642, 0.99094872, 0.99098101,\n",
       "       0.9910139 , 0.99104696, 0.99108002, 0.99111308, 0.99114614,\n",
       "       0.9911792 , 0.99121226, 0.99124532, 0.99127838, 0.99131144,\n",
       "       0.99134521, 0.99137918, 0.99141314, 0.9914471 , 0.99148107,\n",
       "       0.99151503, 0.99154899, 0.99158296, 0.99161692, 0.99165088,\n",
       "       0.99168567, 0.99172067, 0.99175566, 0.99179066, 0.99182566,\n",
       "       0.99186066, 0.99189566, 0.99193065, 0.99196565, 0.99200065,\n",
       "       0.9920366 , 0.99207278, 0.99210896, 0.99214513, 0.99218131,\n",
       "       0.99221749, 0.99225367, 0.99228985, 0.99232603, 0.99236221,\n",
       "       0.99239951, 0.99243706, 0.99247462, 0.99251218, 0.99254973,\n",
       "       0.99258729, 0.99262484, 0.9926624 , 0.99269996, 0.99273751,\n",
       "       0.99277631, 0.99281539, 0.99285446, 0.99289353, 0.99293261,\n",
       "       0.99297168, 0.99301076, 0.99304983, 0.9930889 , 0.99312798,\n",
       "       0.99316868, 0.99320971, 0.99325075, 0.99329179, 0.99333282,\n",
       "       0.99337386, 0.9934149 , 0.99345593, 0.99349697, 0.993538  ,\n",
       "       0.99358096, 0.9936243 , 0.99366763, 0.99371097, 0.9937543 ,\n",
       "       0.99379764, 0.99384098, 0.99388431, 0.99392765, 0.99397098,\n",
       "       0.99401672, 0.9940629 , 0.99410909, 0.99415527, 0.99420145,\n",
       "       0.99424763, 0.99429381, 0.99434   , 0.99438618, 0.99443236,\n",
       "       0.99448164, 0.99453146, 0.99458128, 0.9946311 , 0.99468092,\n",
       "       0.99473074, 0.99478056, 0.99483038, 0.9948802 , 0.99493002,\n",
       "       0.99498401, 0.99503868, 0.99509335, 0.99514802, 0.99520269,\n",
       "       0.99525737, 0.99531204, 0.99536671, 0.99542138, 0.99547605,\n",
       "       0.99553671, 0.99559828, 0.99565984, 0.99572141, 0.99578298,\n",
       "       0.99584455, 0.99590612, 0.99596769, 0.99602926, 0.99609082,\n",
       "       0.99616194, 0.99623441, 0.99630687, 0.99637934, 0.9964518 ,\n",
       "       0.99652427, 0.99659673, 0.9966692 , 0.99674167, 0.99681413,\n",
       "       0.99690538, 0.99699909, 0.9970928 , 0.99718651, 0.99728022,\n",
       "       0.99737393, 0.99746764, 0.99756135, 0.99765506, 0.99774877,\n",
       "       0.99795835, 0.99818194, 0.99840552, 0.99862911, 0.9988527 ,\n",
       "       0.99907628, 0.99929987, 0.99952346, 0.99974704, 0.99997063])"
      ]
     },
     "execution_count": 5,
     "metadata": {},
     "output_type": "execute_result"
    }
   ],
   "source": [
    "dist_min"
   ]
  },
  {
   "cell_type": "code",
   "execution_count": 97,
   "id": "37bf2488",
   "metadata": {
    "ExecuteTime": {
     "end_time": "2022-05-27T12:18:27.119891Z",
     "start_time": "2022-05-27T12:18:27.088200Z"
    }
   },
   "outputs": [
    {
     "data": {
      "text/latex": [
       "Quantum object: \\begin{equation*}\\left(\\begin{array}{*{11}c}0.820 & (0.232-0.245j)\\\\(0.232+0.245j) & 0.180\\\\\\end{array}\\right)\\end{equation*}"
      ],
      "text/plain": [
       "Quantum object\n",
       "array([[0.82 +0.j   , 0.232-0.245j],\n",
       "       [0.232+0.245j, 0.18 +0.j   ]])"
      ]
     },
     "execution_count": 97,
     "metadata": {},
     "output_type": "execute_result"
    }
   ],
   "source": [
    "tmg = qp.StateTomograph(state)\n",
    "tmg.experiment(n_meas)\n",
    "state_hat = tmg.point_estimate(physical=False)\n",
    "state_hat"
   ]
  },
  {
   "cell_type": "code",
   "execution_count": 98,
   "id": "11642ae0",
   "metadata": {
    "ExecuteTime": {
     "end_time": "2022-05-27T12:18:27.925386Z",
     "start_time": "2022-05-27T12:18:27.890429Z"
    }
   },
   "outputs": [
    {
     "data": {
      "text/latex": [
       "Quantum object: \\begin{equation*}\\left(\\begin{array}{*{11}c}0.820 & (0.232-0.245j)\\\\(0.232+0.245j) & 0.180\\\\\\end{array}\\right)\\end{equation*}"
      ],
      "text/plain": [
       "Quantum object\n",
       "array([[0.82 +0.j   , 0.232-0.245j],\n",
       "       [0.232+0.245j, 0.18 +0.j   ]])"
      ]
     },
     "execution_count": 98,
     "metadata": {},
     "output_type": "execute_result"
    }
   ],
   "source": [
    "new_tmg = qp.StateTomograph(qp.Qobj([0, 0, .5]))\n",
    "new_tmg.experiment(n_meas, tmg.povm_matrix)\n",
    "new_tmg.raw_results = tmg.raw_results\n",
    "new_state_hat = new_tmg.point_estimate(physical=False)\n",
    "new_state_hat"
   ]
  },
  {
   "cell_type": "code",
   "execution_count": 88,
   "id": "0260c427",
   "metadata": {
    "ExecuteTime": {
     "end_time": "2022-05-27T11:48:37.403974Z",
     "start_time": "2022-05-27T11:48:36.159728Z"
    }
   },
   "outputs": [],
   "source": [
    "dists = []\n",
    "n_repeats = 10000\n",
    "for _ in range(n_repeats):\n",
    "    tmg = qp.StateTomograph(state)\n",
    "    tmg.experiment(n_meas)\n",
    "    state_hat = tmg.point_estimate(physical=False)\n",
    "    dists.append(state_hat.bloch @ target_state.bloch * dim)\n",
    "dists = np.asarray(sorted(dists))\n",
    "ind = np.where(dists > fidelity)[0][0]\n",
    "emp_dist_min, emp_dist_max = [], []\n",
    "emp_cl = []\n",
    "corrected_len = min(ind, n_repeats - ind)\n",
    "for i in range(corrected_len):\n",
    "    emp_dist_min.append(dists[ind - i])\n",
    "    emp_dist_max.append(dists[ind + i])\n",
    "    emp_cl.append((2 * i + 1) / (corrected_len * 2 + 1))\n",
    "emp_cl = np.asarray(emp_cl)"
   ]
  },
  {
   "cell_type": "code",
   "execution_count": 89,
   "id": "9cce7219",
   "metadata": {
    "ExecuteTime": {
     "end_time": "2022-05-27T11:48:37.952946Z",
     "start_time": "2022-05-27T11:48:37.919941Z"
    }
   },
   "outputs": [
    {
     "data": {
      "text/plain": [
       "4993"
      ]
     },
     "execution_count": 89,
     "metadata": {},
     "output_type": "execute_result"
    }
   ],
   "source": [
    "corrected_len"
   ]
  },
  {
   "cell_type": "code",
   "execution_count": 92,
   "id": "ff6b0149",
   "metadata": {
    "ExecuteTime": {
     "end_time": "2022-05-27T11:48:52.036270Z",
     "start_time": "2022-05-27T11:48:51.414680Z"
    }
   },
   "outputs": [
    {
     "data": {
      "image/png": "[encoded data removed]",
      "text/plain": [
       "<Figure size 4000x2600 with 1 Axes>"
      ]
     },
     "metadata": {
      "needs_background": "light"
     },
     "output_type": "display_data"
    }
   ],
   "source": [
    "plt.figure(figsize=(20, 13), dpi=200)\n",
    "plt.xlabel('$\\\\epsilon$')\n",
    "plt.ylabel('Fidelity')\n",
    "plt.grid()\n",
    "plt.fill_between(epsilons, dist_min, dist_max, alpha=0.3)\n",
    "plt.fill_between(1 - emp_cl, emp_dist_min, emp_dist_max, alpha=0.3)\n",
    "plt.xscale('log')"
   ]
  },
  {
   "cell_type": "code",
   "execution_count": null,
   "id": "4d0c05c0",
   "metadata": {},
   "outputs": [],
   "source": []
  }
 ],
 "metadata": {
  "kernelspec": {
   "display_name": "Python 3 (ipykernel)",
   "language": "python",
   "name": "python3"
  },
  "language_info": {
   "codemirror_mode": {
    "name": "ipython",
    "version": 3
   },
   "file_extension": ".py",
   "mimetype": "text/x-python",
   "name": "python",
   "nbconvert_exporter": "python",
   "pygments_lexer": "ipython3",
   "version": "3.9.5"
  }
 },
 "nbformat": 4,
 "nbformat_minor": 5
}
