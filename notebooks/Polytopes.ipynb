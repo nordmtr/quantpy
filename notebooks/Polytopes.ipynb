{
 "cells": [
  {
   "cell_type": "code",
   "execution_count": 19,
   "metadata": {},
   "outputs": [
    {
     "name": "stdout",
     "output_type": "stream",
     "text": [
      "The autoreload extension is already loaded. To reload it, use:\n",
      "  %reload_ext autoreload\n"
     ]
    }
   ],
   "source": [
    "%run Imports.ipynb\n",
    "from quantpy.tomography.interval import ConfidenceInterval, _pop_hidden_keys, Mode\n",
    "\n",
    "import numpy as np\n",
    "import scipy.linalg as la\n",
    "import scipy.stats as sts\n",
    "import polytope as pc\n",
    "import math\n",
    "import pypoman\n",
    "\n",
    "from enum import Enum, auto\n",
    "from abc import ABC, abstractmethod\n",
    "from scipy.interpolate import interp1d\n",
    "from collections import Counter, defaultdict\n",
    "from functools import partial\n",
    "from cvxopt import matrix, solvers\n",
    "from einops import repeat, rearrange\n",
    "\n",
    "from quantpy.geometry import hs_dst, trace_dst, if_dst\n",
    "from quantpy.polytope import compute_polytope_volume, find_max_distance_to_polytope\n",
    "from quantpy.qobj import Qobj\n",
    "from quantpy.routines import (\n",
    "    _left_inv, _vec2mat, _mat2vec,\n",
    "    _matrix_to_real_tril_vec, _real_tril_vec_to_matrix, generate_pauli, generate_single_entries\n",
    ")"
   ]
  },
  {
   "cell_type": "code",
   "execution_count": 29,
   "metadata": {},
   "outputs": [],
   "source": [
    "class ProcessWangIntervalFidelity(ConfidenceInterval):\n",
    "    def __init__(self, tmg, n_points=1000, target_channel=None):\n",
    "        kwargs = _pop_hidden_keys(locals())\n",
    "        super().__init__(tmg, **kwargs)\n",
    "        \n",
    "    def __call__(self, conf_levels=None):\n",
    "        if conf_levels is None:\n",
    "            conf_levels = np.linspace(1e-3, 1-1e-3, 1000)\n",
    "        if not hasattr(self, 'cl_to_dist_max'):\n",
    "            self.setup()\n",
    "        return (self.cl_to_dist_min(conf_levels), self.cl_to_dist_max(conf_levels)), conf_levels\n",
    "        \n",
    "    def setup(self):\n",
    "        channel = self.tmg.channel\n",
    "        dim_in = dim_out = 2 ** channel.n_qubits\n",
    "        dim = dim_in * dim_out\n",
    "        bloch_indices = [i for i in range(dim ** 2) if i % (dim_out ** 2) != 0]\n",
    "        \n",
    "        if self.target_channel is None:\n",
    "            self.target_channel = channel\n",
    "        \n",
    "        povm_matrix = self.tmg.tomographs[0].povm_matrix\n",
    "        n_measurements = self.tmg.tomographs[0].n_measurements\n",
    "\n",
    "        frequencies = np.asarray([\n",
    "            np.clip(tmg.raw_results / tmg.n_measurements[:, None], self.EPS, 1 - self.EPS)\n",
    "            for tmg in self.tmg.tomographs\n",
    "        ])\n",
    "        \n",
    "        meas_matrix = (np.reshape(povm_matrix * n_measurements[:, None, None] / np.sum(n_measurements),\n",
    "                                  (-1, povm_matrix.shape[-1])) \n",
    "                       * povm_matrix.shape[0])\n",
    "        states_matrix = np.asarray([rho.T.bloch for rho in self.tmg.input_basis.elements])\n",
    "        channel_matrix = np.einsum(\"i a, j b -> i j a b\", states_matrix, meas_matrix[:, 1:]) * dim\n",
    "        channel_matrix = rearrange(channel_matrix, \"i j a b -> (i j) (a b)\")\n",
    "        A = np.ascontiguousarray(channel_matrix)\n",
    "        \n",
    "        max_delta = count_delta(1-1e-5, frequencies, n_measurements)\n",
    "        min_delta = count_delta(0, frequencies, n_measurements)\n",
    "        deltas = np.linspace(min_delta, max_delta, self.n_points)\n",
    "        \n",
    "        dist_max = []\n",
    "        dist_min = []\n",
    "        for delta in deltas:\n",
    "            b = (np.clip(np.hstack(np.concatenate(frequencies, axis=0)) + delta, self.EPS, 1 - self.EPS) \n",
    "                 - repeat(meas_matrix[:, 0], 'a -> (a b)', b=len(states_matrix)))\n",
    "            return A, b\n",
    "            c = matrix(self.target_channel.choi.bloch[bloch_indices])\n",
    "            G, h = matrix(A), matrix(b)\n",
    "            sol = solvers.lp(c, G, h)\n",
    "            if not sol['primal objective']:\n",
    "                dist_min.append(1)\n",
    "            else:\n",
    "                dist_min.append(1/dim + sol['primal objective'])\n",
    "            sol = solvers.lp(-c, G, h)\n",
    "            if not sol['primal objective']:\n",
    "                dist_max.append(1)\n",
    "            else:\n",
    "                dist_max.append(1/dim - sol['primal objective'])\n",
    "\n",
    "        conf_levels = []\n",
    "        for delta in deltas:\n",
    "            conf_levels.append(count_confidence(delta, frequencies, self.tmg.tomographs[0].n_measurements))\n",
    "        self.cl_to_dist_max = interp1d(conf_levels, dist_max)\n",
    "        self.cl_to_dist_min = interp1d(conf_levels, dist_min)"
   ]
  },
  {
   "cell_type": "code",
   "execution_count": 30,
   "metadata": {},
   "outputs": [
    {
     "ename": "NameError",
     "evalue": "name 'count_delta' is not defined",
     "output_type": "error",
     "traceback": [
      "\u001b[0;31m---------------------------------------------------------------------------\u001b[0m",
      "\u001b[0;31mNameError\u001b[0m                                 Traceback (most recent call last)",
      "\u001b[0;32m/tmp/ipykernel_10470/3552775822.py\u001b[0m in \u001b[0;36m<module>\u001b[0;34m\u001b[0m\n\u001b[1;32m      4\u001b[0m \u001b[0mchannel_hat\u001b[0m \u001b[0;34m=\u001b[0m \u001b[0mtmg\u001b[0m\u001b[0;34m.\u001b[0m\u001b[0mpoint_estimate\u001b[0m\u001b[0;34m(\u001b[0m\u001b[0;34m)\u001b[0m\u001b[0;34m\u001b[0m\u001b[0;34m\u001b[0m\u001b[0m\n\u001b[1;32m      5\u001b[0m \u001b[0minterval\u001b[0m \u001b[0;34m=\u001b[0m \u001b[0mProcessWangIntervalFidelity\u001b[0m\u001b[0;34m(\u001b[0m\u001b[0mtmg\u001b[0m\u001b[0;34m)\u001b[0m\u001b[0;34m\u001b[0m\u001b[0;34m\u001b[0m\u001b[0m\n\u001b[0;32m----> 6\u001b[0;31m \u001b[0mA\u001b[0m\u001b[0;34m,\u001b[0m \u001b[0mb\u001b[0m \u001b[0;34m=\u001b[0m \u001b[0minterval\u001b[0m\u001b[0;34m.\u001b[0m\u001b[0msetup\u001b[0m\u001b[0;34m(\u001b[0m\u001b[0;34m)\u001b[0m\u001b[0;34m\u001b[0m\u001b[0;34m\u001b[0m\u001b[0m\n\u001b[0m",
      "\u001b[0;32m/tmp/ipykernel_10470/2708922970.py\u001b[0m in \u001b[0;36msetup\u001b[0;34m(self)\u001b[0m\n\u001b[1;32m     36\u001b[0m         \u001b[0mA\u001b[0m \u001b[0;34m=\u001b[0m \u001b[0mnp\u001b[0m\u001b[0;34m.\u001b[0m\u001b[0mascontiguousarray\u001b[0m\u001b[0;34m(\u001b[0m\u001b[0mchannel_matrix\u001b[0m\u001b[0;34m)\u001b[0m\u001b[0;34m\u001b[0m\u001b[0;34m\u001b[0m\u001b[0m\n\u001b[1;32m     37\u001b[0m \u001b[0;34m\u001b[0m\u001b[0m\n\u001b[0;32m---> 38\u001b[0;31m         \u001b[0mmax_delta\u001b[0m \u001b[0;34m=\u001b[0m \u001b[0mcount_delta\u001b[0m\u001b[0;34m(\u001b[0m\u001b[0;36m1\u001b[0m\u001b[0;34m-\u001b[0m\u001b[0;36m1e-5\u001b[0m\u001b[0;34m,\u001b[0m \u001b[0mfrequencies\u001b[0m\u001b[0;34m,\u001b[0m \u001b[0mn_measurements\u001b[0m\u001b[0;34m)\u001b[0m\u001b[0;34m\u001b[0m\u001b[0;34m\u001b[0m\u001b[0m\n\u001b[0m\u001b[1;32m     39\u001b[0m         \u001b[0mmin_delta\u001b[0m \u001b[0;34m=\u001b[0m \u001b[0mcount_delta\u001b[0m\u001b[0;34m(\u001b[0m\u001b[0;36m0\u001b[0m\u001b[0;34m,\u001b[0m \u001b[0mfrequencies\u001b[0m\u001b[0;34m,\u001b[0m \u001b[0mn_measurements\u001b[0m\u001b[0;34m)\u001b[0m\u001b[0;34m\u001b[0m\u001b[0;34m\u001b[0m\u001b[0m\n\u001b[1;32m     40\u001b[0m         \u001b[0mdeltas\u001b[0m \u001b[0;34m=\u001b[0m \u001b[0mnp\u001b[0m\u001b[0;34m.\u001b[0m\u001b[0mlinspace\u001b[0m\u001b[0;34m(\u001b[0m\u001b[0mmin_delta\u001b[0m\u001b[0;34m,\u001b[0m \u001b[0mmax_delta\u001b[0m\u001b[0;34m,\u001b[0m \u001b[0mself\u001b[0m\u001b[0;34m.\u001b[0m\u001b[0mn_points\u001b[0m\u001b[0;34m)\u001b[0m\u001b[0;34m\u001b[0m\u001b[0;34m\u001b[0m\u001b[0m\n",
      "\u001b[0;31mNameError\u001b[0m: name 'count_delta' is not defined"
     ]
    }
   ],
   "source": [
    "channel = qp.operator.Id.as_channel()\n",
    "tmg = qp.ProcessTomograph(channel, input_states='proj4')\n",
    "tmg.experiment(10000)\n",
    "channel_hat = tmg.point_estimate()\n",
    "interval = ProcessWangIntervalFidelity(tmg)\n",
    "A, b = interval.setup()"
   ]
  },
  {
   "cell_type": "code",
   "execution_count": 28,
   "metadata": {},
   "outputs": [
    {
     "data": {
      "text/plain": [
       "array([ 0.5,  0. ,  0. ,  0. ,  0. ,  0.5,  0. ,  0. ,  0. ,  0. , -0.5,\n",
       "        0. ,  0. ,  0. ,  0. ,  0.5])"
      ]
     },
     "execution_count": 28,
     "metadata": {},
     "output_type": "execute_result"
    }
   ],
   "source": [
    "channel.choi.bloch"
   ]
  },
  {
   "cell_type": "code",
   "execution_count": 50,
   "metadata": {
    "code_folding": []
   },
   "outputs": [],
   "source": [
    "def zero_channel(p=1):\n",
    "    return qp.Channel(lambda rho: rho * (1 - p) + qp.Qobj([0, 0, 0.5]) * p * rho.trace(), n_qubits=1)"
   ]
  },
  {
   "cell_type": "code",
   "execution_count": null,
   "metadata": {},
   "outputs": [],
   "source": []
  },
  {
   "cell_type": "code",
   "execution_count": 43,
   "metadata": {},
   "outputs": [
    {
     "data": {
      "text/plain": [
       "[Quantum object\n",
       " array([[1.+0.j, 0.+0.j],\n",
       "        [0.+0.j, 0.+0.j]]),\n",
       " Quantum object\n",
       " array([[0. +0.j, 0.4+0.j],\n",
       "        [0. +0.j, 0. +0.j]]),\n",
       " Quantum object\n",
       " array([[0. +0.j, 0. +0.j],\n",
       "        [0.4+0.j, 0. +0.j]]),\n",
       " Quantum object\n",
       " array([[0.+0.j, 0.+0.j],\n",
       "        [0.+0.j, 1.+0.j]])]"
      ]
     },
     "execution_count": 43,
     "metadata": {},
     "output_type": "execute_result"
    }
   ],
   "source": [
    "[channel.transform(e) for e in se]"
   ]
  },
  {
   "cell_type": "code",
   "execution_count": 15,
   "metadata": {},
   "outputs": [
    {
     "data": {
      "text/plain": [
       "array([-1., -1., -1., -1., -1., -1.,  0.,  0.,  0.,  0.,  0.,  0.,  0.,\n",
       "        0.,  0.,  0.,  0.,  0.,  0.,  0.,  0.,  0.,  0.,  0.])"
      ]
     },
     "execution_count": 15,
     "metadata": {},
     "output_type": "execute_result"
    }
   ],
   "source": [
    "x = np.zeros(12)\n",
    "x[[0,]] = -1\n",
    "A @ x"
   ]
  },
  {
   "cell_type": "code",
   "execution_count": 16,
   "metadata": {},
   "outputs": [
    {
     "data": {
      "text/plain": [
       "array([ 0.5,  0. ,  0. ,  0. ,  0. ,  0.5,  0. ,  0. ,  0. ,  0. , -0.5,\n",
       "        0. ,  0. ,  0. ,  0. ,  0.5])"
      ]
     },
     "execution_count": 16,
     "metadata": {},
     "output_type": "execute_result"
    }
   ],
   "source": [
    "channel.choi.bloch"
   ]
  },
  {
   "cell_type": "code",
   "execution_count": 18,
   "metadata": {},
   "outputs": [],
   "source": [
    "x = np.zeros(16)\n",
    "x[0] = 0.5\n",
    "x[4] = -0.5"
   ]
  },
  {
   "cell_type": "code",
   "execution_count": 7,
   "metadata": {},
   "outputs": [
    {
     "data": {
      "text/plain": [
       "array([[ 1.,  1.,  0.,  0.,  0.,  0.,  0.,  0.,  0.,  0.,  0.,  0.],\n",
       "       [ 1., -1.,  0.,  0.,  0.,  0.,  0.,  0.,  0.,  0.,  0.,  0.],\n",
       "       [ 1.,  0.,  1.,  0.,  0.,  0.,  0.,  0.,  0.,  0.,  0.,  0.],\n",
       "       [ 1.,  0., -1.,  0.,  0.,  0.,  0.,  0.,  0.,  0.,  0.,  0.],\n",
       "       [ 1.,  0.,  0.,  1.,  0.,  0.,  0.,  0.,  0.,  0.,  0.,  0.],\n",
       "       [ 1.,  0.,  0., -1.,  0.,  0.,  0.,  0.,  0.,  0.,  0.,  0.],\n",
       "       [ 0.,  0.,  0.,  0., -1., -1.,  0.,  0.,  0.,  0.,  0.,  0.],\n",
       "       [ 0.,  0.,  0.,  0., -1.,  1.,  0.,  0.,  0.,  0.,  0.,  0.],\n",
       "       [ 0.,  0.,  0.,  0., -1.,  0., -1.,  0.,  0.,  0.,  0.,  0.],\n",
       "       [ 0.,  0.,  0.,  0., -1.,  0.,  1.,  0.,  0.,  0.,  0.,  0.],\n",
       "       [ 0.,  0.,  0.,  0., -1.,  0.,  0., -1.,  0.,  0.,  0.,  0.],\n",
       "       [ 0.,  0.,  0.,  0., -1.,  0.,  0.,  1.,  0.,  0.,  0.,  0.],\n",
       "       [ 0.,  0.,  0.,  0.,  0.,  0.,  0.,  0.,  1.,  1.,  0.,  0.],\n",
       "       [ 0.,  0.,  0.,  0.,  0.,  0.,  0.,  0.,  1., -1.,  0.,  0.],\n",
       "       [ 0.,  0.,  0.,  0.,  0.,  0.,  0.,  0.,  1.,  0.,  1.,  0.],\n",
       "       [ 0.,  0.,  0.,  0.,  0.,  0.,  0.,  0.,  1.,  0., -1.,  0.],\n",
       "       [ 0.,  0.,  0.,  0.,  0.,  0.,  0.,  0.,  1.,  0.,  0.,  1.],\n",
       "       [ 0.,  0.,  0.,  0.,  0.,  0.,  0.,  0.,  1.,  0.,  0., -1.],\n",
       "       [ 0.,  0.,  0.,  0.,  0.,  0.,  0.,  0., -1., -1.,  0.,  0.],\n",
       "       [ 0.,  0.,  0.,  0.,  0.,  0.,  0.,  0., -1.,  1.,  0.,  0.],\n",
       "       [ 0.,  0.,  0.,  0.,  0.,  0.,  0.,  0., -1.,  0., -1.,  0.],\n",
       "       [ 0.,  0.,  0.,  0.,  0.,  0.,  0.,  0., -1.,  0.,  1.,  0.],\n",
       "       [ 0.,  0.,  0.,  0.,  0.,  0.,  0.,  0., -1.,  0.,  0., -1.],\n",
       "       [ 0.,  0.,  0.,  0.,  0.,  0.,  0.,  0., -1.,  0.,  0.,  1.]])"
      ]
     },
     "execution_count": 7,
     "metadata": {},
     "output_type": "execute_result"
    }
   ],
   "source": [
    "A"
   ]
  },
  {
   "cell_type": "code",
   "execution_count": 12,
   "metadata": {},
   "outputs": [
    {
     "data": {
      "text/plain": [
       "array([[ 1.,  1.,  0.,  0.,  0.,  0.,  0.,  0.,  0.,  0.,  0.,  0.],\n",
       "       [ 1., -1.,  0.,  0.,  0.,  0.,  0.,  0.,  0.,  0.,  0.,  0.],\n",
       "       [ 1.,  0.,  1.,  0.,  0.,  0.,  0.,  0.,  0.,  0.,  0.,  0.],\n",
       "       [ 1.,  0., -1.,  0.,  0.,  0.,  0.,  0.,  0.,  0.,  0.,  0.],\n",
       "       [ 1.,  0.,  0.,  1.,  0.,  0.,  0.,  0.,  0.,  0.,  0.,  0.],\n",
       "       [ 1.,  0.,  0., -1.,  0.,  0.,  0.,  0.,  0.,  0.,  0.,  0.],\n",
       "       [ 0.,  0.,  0.,  0., -1., -1.,  0.,  0.,  0.,  0.,  0.,  0.],\n",
       "       [ 0.,  0.,  0.,  0., -1.,  1.,  0.,  0.,  0.,  0.,  0.,  0.],\n",
       "       [ 0.,  0.,  0.,  0., -1.,  0., -1.,  0.,  0.,  0.,  0.,  0.],\n",
       "       [ 0.,  0.,  0.,  0., -1.,  0.,  1.,  0.,  0.,  0.,  0.,  0.],\n",
       "       [ 0.,  0.,  0.,  0., -1.,  0.,  0., -1.,  0.,  0.,  0.,  0.],\n",
       "       [ 0.,  0.,  0.,  0., -1.,  0.,  0.,  1.,  0.,  0.,  0.,  0.],\n",
       "       [ 0.,  0.,  0.,  0.,  0.,  0.,  0.,  0.,  1.,  1.,  0.,  0.],\n",
       "       [ 0.,  0.,  0.,  0.,  0.,  0.,  0.,  0.,  1., -1.,  0.,  0.],\n",
       "       [ 0.,  0.,  0.,  0.,  0.,  0.,  0.,  0.,  1.,  0.,  1.,  0.],\n",
       "       [ 0.,  0.,  0.,  0.,  0.,  0.,  0.,  0.,  1.,  0., -1.,  0.],\n",
       "       [ 0.,  0.,  0.,  0.,  0.,  0.,  0.,  0.,  1.,  0.,  0.,  1.],\n",
       "       [ 0.,  0.,  0.,  0.,  0.,  0.,  0.,  0.,  1.,  0.,  0., -1.],\n",
       "       [ 0.,  0.,  0.,  0.,  0.,  0.,  0.,  0., -1., -1.,  0.,  0.],\n",
       "       [ 0.,  0.,  0.,  0.,  0.,  0.,  0.,  0., -1.,  1.,  0.,  0.],\n",
       "       [ 0.,  0.,  0.,  0.,  0.,  0.,  0.,  0., -1.,  0., -1.,  0.],\n",
       "       [ 0.,  0.,  0.,  0.,  0.,  0.,  0.,  0., -1.,  0.,  1.,  0.],\n",
       "       [ 0.,  0.,  0.,  0.,  0.,  0.,  0.,  0., -1.,  0.,  0., -1.],\n",
       "       [ 0.,  0.,  0.,  0.,  0.,  0.,  0.,  0., -1.,  0.,  0.,  1.]])"
      ]
     },
     "execution_count": 12,
     "metadata": {},
     "output_type": "execute_result"
    }
   ],
   "source": []
  },
  {
   "cell_type": "code",
   "execution_count": 5,
   "metadata": {},
   "outputs": [
    {
     "data": {
      "text/latex": [
       "Choi matrix: Quantum object: \\begin{equation*}\\left(\\begin{array}{*{11}c}0.998 & (-0.004-0.002j) & (0.003-1.072\\times10^{-04}j) & (0.993-0.004j)\\\\(-0.004+0.002j) & 0.002 & (0.002+7.008\\times10^{-04}j) & (-0.003+1.072\\times10^{-04}j)\\\\(0.003+1.072\\times10^{-04}j) & (0.002-7.008\\times10^{-04}j) & 0.003 & (0.002+0.002j)\\\\(0.993+0.004j) & (-0.003-1.072\\times10^{-04}j) & (0.002-0.002j) & 0.997\\\\\\end{array}\\right)\\end{equation*}"
      ],
      "text/plain": [
       "Quantum channel with Choi matrix\n",
       "array([[ 0.99753+0.j     , -0.0044 -0.0015j ,  0.00277-0.00011j,\n",
       "         0.99256-0.0039j ],\n",
       "       [-0.0044 +0.0015j ,  0.00247+0.j     ,  0.00179+0.0007j ,\n",
       "        -0.00277+0.00011j],\n",
       "       [ 0.00277+0.00011j,  0.00179-0.0007j ,  0.00342+0.j     ,\n",
       "         0.00235+0.00175j],\n",
       "       [ 0.99256+0.0039j , -0.00277-0.00011j,  0.00235-0.00175j,\n",
       "         0.99658+0.j     ]])"
      ]
     },
     "execution_count": 5,
     "metadata": {},
     "output_type": "execute_result"
    }
   ],
   "source": [
    "interval = ProcessWangIntervalFidelity()"
   ]
  }
 ],
 "metadata": {
  "kernelspec": {
   "display_name": "Python 3 (ipykernel)",
   "language": "python",
   "name": "python3"
  },
  "language_info": {
   "codemirror_mode": {
    "name": "ipython",
    "version": 3
   },
   "file_extension": ".py",
   "mimetype": "text/x-python",
   "name": "python",
   "nbconvert_exporter": "python",
   "pygments_lexer": "ipython3",
   "version": "3.7.3"
  }
 },
 "nbformat": 4,
 "nbformat_minor": 4
}
